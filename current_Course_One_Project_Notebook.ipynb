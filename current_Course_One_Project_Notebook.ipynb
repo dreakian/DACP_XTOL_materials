{
 "cells": [
  {
   "cell_type": "code",
   "execution_count": 2,
   "id": "24cef14e",
   "metadata": {},
   "outputs": [],
   "source": [
    "import pandas as pd\n",
    "import matplotlib.pyplot as plt\n",
    "import seaborn as sns\n",
    "import numpy as np\n",
    "import plotly.express as px\n",
    "\n",
    "import plotly.graph_objs as go\n",
    "# import cufflinks as cf\n",
    "# from plotly.offline import download_plotlyjs,init_notebook_mode,plot,iplot"
   ]
  },
  {
   "cell_type": "code",
   "execution_count": 3,
   "id": "5a30c3ac",
   "metadata": {},
   "outputs": [],
   "source": [
    "data = pd.read_csv(\"Demographic_Data.csv\")"
   ]
  },
  {
   "cell_type": "code",
   "execution_count": 4,
   "id": "2e5fe1c8",
   "metadata": {},
   "outputs": [],
   "source": [
    "plt.style.use(\"classic\")"
   ]
  },
  {
   "cell_type": "code",
   "execution_count": 5,
   "id": "785d27ae",
   "metadata": {},
   "outputs": [],
   "source": [
    "pd.options.display.float_format = '{:,.2f}'.format"
   ]
  },
  {
   "cell_type": "markdown",
   "id": "45983ec9",
   "metadata": {},
   "source": [
    "# * Task 1: Investigate Customer Buying Patterns *"
   ]
  },
  {
   "cell_type": "markdown",
   "id": "b2e8a3c2",
   "metadata": {},
   "source": [
    "# Section 3: Obtaining Data and Preprocessing Data"
   ]
  },
  {
   "cell_type": "code",
   "execution_count": 6,
   "id": "b48ddda5",
   "metadata": {
    "scrolled": false
   },
   "outputs": [
    {
     "name": "stdout",
     "output_type": "stream",
     "text": [
      "<class 'pandas.core.frame.DataFrame'>\n",
      "RangeIndex: 80000 entries, 0 to 79999\n",
      "Data columns (total 5 columns):\n",
      " #   Column    Non-Null Count  Dtype  \n",
      "---  ------    --------------  -----  \n",
      " 0   in-store  80000 non-null  int64  \n",
      " 1   age       80000 non-null  int64  \n",
      " 2   items     80000 non-null  int64  \n",
      " 3   amount    80000 non-null  float64\n",
      " 4   region    80000 non-null  int64  \n",
      "dtypes: float64(1), int64(4)\n",
      "memory usage: 3.1 MB\n"
     ]
    }
   ],
   "source": [
    "data.info()"
   ]
  },
  {
   "cell_type": "code",
   "execution_count": 7,
   "id": "07f0c726",
   "metadata": {
    "scrolled": false
   },
   "outputs": [
    {
     "data": {
      "text/html": [
       "<div>\n",
       "<style scoped>\n",
       "    .dataframe tbody tr th:only-of-type {\n",
       "        vertical-align: middle;\n",
       "    }\n",
       "\n",
       "    .dataframe tbody tr th {\n",
       "        vertical-align: top;\n",
       "    }\n",
       "\n",
       "    .dataframe thead th {\n",
       "        text-align: right;\n",
       "    }\n",
       "</style>\n",
       "<table border=\"1\" class=\"dataframe\">\n",
       "  <thead>\n",
       "    <tr style=\"text-align: right;\">\n",
       "      <th></th>\n",
       "      <th>in-store</th>\n",
       "      <th>age</th>\n",
       "      <th>items</th>\n",
       "      <th>amount</th>\n",
       "      <th>region</th>\n",
       "    </tr>\n",
       "  </thead>\n",
       "  <tbody>\n",
       "    <tr>\n",
       "      <th>count</th>\n",
       "      <td>80,000.00</td>\n",
       "      <td>80,000.00</td>\n",
       "      <td>80,000.00</td>\n",
       "      <td>80,000.00</td>\n",
       "      <td>80,000.00</td>\n",
       "    </tr>\n",
       "    <tr>\n",
       "      <th>mean</th>\n",
       "      <td>0.50</td>\n",
       "      <td>45.76</td>\n",
       "      <td>4.50</td>\n",
       "      <td>835.92</td>\n",
       "      <td>2.67</td>\n",
       "    </tr>\n",
       "    <tr>\n",
       "      <th>std</th>\n",
       "      <td>0.50</td>\n",
       "      <td>15.72</td>\n",
       "      <td>2.06</td>\n",
       "      <td>721.27</td>\n",
       "      <td>1.13</td>\n",
       "    </tr>\n",
       "    <tr>\n",
       "      <th>min</th>\n",
       "      <td>0.00</td>\n",
       "      <td>18.00</td>\n",
       "      <td>1.00</td>\n",
       "      <td>5.00</td>\n",
       "      <td>1.00</td>\n",
       "    </tr>\n",
       "    <tr>\n",
       "      <th>25%</th>\n",
       "      <td>0.00</td>\n",
       "      <td>33.00</td>\n",
       "      <td>3.00</td>\n",
       "      <td>285.14</td>\n",
       "      <td>2.00</td>\n",
       "    </tr>\n",
       "    <tr>\n",
       "      <th>50%</th>\n",
       "      <td>0.50</td>\n",
       "      <td>45.00</td>\n",
       "      <td>4.00</td>\n",
       "      <td>582.32</td>\n",
       "      <td>3.00</td>\n",
       "    </tr>\n",
       "    <tr>\n",
       "      <th>75%</th>\n",
       "      <td>1.00</td>\n",
       "      <td>56.00</td>\n",
       "      <td>6.00</td>\n",
       "      <td>1,233.70</td>\n",
       "      <td>4.00</td>\n",
       "    </tr>\n",
       "    <tr>\n",
       "      <th>max</th>\n",
       "      <td>1.00</td>\n",
       "      <td>85.00</td>\n",
       "      <td>8.00</td>\n",
       "      <td>3,000.00</td>\n",
       "      <td>4.00</td>\n",
       "    </tr>\n",
       "  </tbody>\n",
       "</table>\n",
       "</div>"
      ],
      "text/plain": [
       "       in-store       age     items    amount    region\n",
       "count 80,000.00 80,000.00 80,000.00 80,000.00 80,000.00\n",
       "mean       0.50     45.76      4.50    835.92      2.67\n",
       "std        0.50     15.72      2.06    721.27      1.13\n",
       "min        0.00     18.00      1.00      5.00      1.00\n",
       "25%        0.00     33.00      3.00    285.14      2.00\n",
       "50%        0.50     45.00      4.00    582.32      3.00\n",
       "75%        1.00     56.00      6.00  1,233.70      4.00\n",
       "max        1.00     85.00      8.00  3,000.00      4.00"
      ]
     },
     "execution_count": 7,
     "metadata": {},
     "output_type": "execute_result"
    }
   ],
   "source": [
    "data.describe()"
   ]
  },
  {
   "cell_type": "markdown",
   "id": "d1ed6a7b",
   "metadata": {},
   "source": [
    "# Original Dataframe (needs to be cleaned and modified)"
   ]
  },
  {
   "cell_type": "code",
   "execution_count": 8,
   "id": "51f2fb56",
   "metadata": {
    "scrolled": false
   },
   "outputs": [
    {
     "data": {
      "text/html": [
       "<div>\n",
       "<style scoped>\n",
       "    .dataframe tbody tr th:only-of-type {\n",
       "        vertical-align: middle;\n",
       "    }\n",
       "\n",
       "    .dataframe tbody tr th {\n",
       "        vertical-align: top;\n",
       "    }\n",
       "\n",
       "    .dataframe thead th {\n",
       "        text-align: right;\n",
       "    }\n",
       "</style>\n",
       "<table border=\"1\" class=\"dataframe\">\n",
       "  <thead>\n",
       "    <tr style=\"text-align: right;\">\n",
       "      <th></th>\n",
       "      <th>in-store</th>\n",
       "      <th>age</th>\n",
       "      <th>items</th>\n",
       "      <th>amount</th>\n",
       "      <th>region</th>\n",
       "    </tr>\n",
       "  </thead>\n",
       "  <tbody>\n",
       "    <tr>\n",
       "      <th>0</th>\n",
       "      <td>0</td>\n",
       "      <td>37</td>\n",
       "      <td>4</td>\n",
       "      <td>281.03</td>\n",
       "      <td>2</td>\n",
       "    </tr>\n",
       "    <tr>\n",
       "      <th>1</th>\n",
       "      <td>0</td>\n",
       "      <td>35</td>\n",
       "      <td>2</td>\n",
       "      <td>219.51</td>\n",
       "      <td>2</td>\n",
       "    </tr>\n",
       "    <tr>\n",
       "      <th>2</th>\n",
       "      <td>1</td>\n",
       "      <td>45</td>\n",
       "      <td>3</td>\n",
       "      <td>1,525.70</td>\n",
       "      <td>4</td>\n",
       "    </tr>\n",
       "    <tr>\n",
       "      <th>3</th>\n",
       "      <td>1</td>\n",
       "      <td>46</td>\n",
       "      <td>3</td>\n",
       "      <td>715.25</td>\n",
       "      <td>3</td>\n",
       "    </tr>\n",
       "    <tr>\n",
       "      <th>4</th>\n",
       "      <td>1</td>\n",
       "      <td>33</td>\n",
       "      <td>4</td>\n",
       "      <td>1,937.50</td>\n",
       "      <td>1</td>\n",
       "    </tr>\n",
       "  </tbody>\n",
       "</table>\n",
       "</div>"
      ],
      "text/plain": [
       "   in-store  age  items   amount  region\n",
       "0         0   37      4   281.03       2\n",
       "1         0   35      2   219.51       2\n",
       "2         1   45      3 1,525.70       4\n",
       "3         1   46      3   715.25       3\n",
       "4         1   33      4 1,937.50       1"
      ]
     },
     "execution_count": 8,
     "metadata": {},
     "output_type": "execute_result"
    }
   ],
   "source": [
    "data.head()"
   ]
  },
  {
   "cell_type": "code",
   "execution_count": 9,
   "id": "0c234efd",
   "metadata": {},
   "outputs": [
    {
     "data": {
      "text/plain": [
       "False    79979\n",
       "True        21\n",
       "dtype: int64"
      ]
     },
     "execution_count": 9,
     "metadata": {},
     "output_type": "execute_result"
    }
   ],
   "source": [
    "# need to remove duplicate values as they can cause error in analysis\n",
    "\n",
    "data.duplicated().value_counts()"
   ]
  },
  {
   "cell_type": "code",
   "execution_count": 10,
   "id": "e27a35c5",
   "metadata": {},
   "outputs": [],
   "source": [
    "# removes duplicate values from the dataframe, leading a reduction in the RangeIndex range\n",
    "\n",
    "# having duplicate values may result in errors in math being done on the data\n",
    "\n",
    "data = data.drop_duplicates()"
   ]
  },
  {
   "cell_type": "code",
   "execution_count": 11,
   "id": "76f8fe8c",
   "metadata": {},
   "outputs": [
    {
     "data": {
      "text/plain": [
       "in-store    0\n",
       "age         0\n",
       "items       0\n",
       "amount      0\n",
       "region      0\n",
       "dtype: int64"
      ]
     },
     "execution_count": 11,
     "metadata": {},
     "output_type": "execute_result"
    }
   ],
   "source": [
    "# checks if there are any missing values in the dataset\n",
    "\n",
    "# in this case, there are no missing values\n",
    "\n",
    "data.isnull().sum()"
   ]
  },
  {
   "cell_type": "code",
   "execution_count": 12,
   "id": "ea657907",
   "metadata": {},
   "outputs": [
    {
     "data": {
      "text/plain": [
       "in-store      int64\n",
       "age           int64\n",
       "items         int64\n",
       "amount      float64\n",
       "region        int64\n",
       "dtype: object"
      ]
     },
     "execution_count": 12,
     "metadata": {},
     "output_type": "execute_result"
    }
   ],
   "source": [
    "# even though \"region\" and \"in-store\" are technically categorical variables, they need to retain their integer datatype label\n",
    "# so that Machine Learning functions can be applied onto them (particularly relevant for the \"region\" column)\n",
    " \n",
    "data.dtypes"
   ]
  },
  {
   "cell_type": "code",
   "execution_count": 13,
   "id": "794a130d",
   "metadata": {
    "scrolled": true
   },
   "outputs": [],
   "source": [
    "# EDIT: this was original code; this code is no longer being used but will remain in the notebook for note-taking purposes\n",
    "\n",
    "# converts the \"In-store\" and \"Region\" columns into dummy variables with a str data type\n",
    "\n",
    "# renames the newly formatted columns based on their particular values\n",
    "\n",
    "# new_data = pd.get_dummies(data, columns=[\"in-store\",\"region\"], dtype=str)\n",
    "# new_data.rename({\"region_1\":\"North\"}, axis=1, inplace=True)\n",
    "# new_data.rename({\"region_2\":\"South\"}, axis=1, inplace=True)\n",
    "# new_data.rename({\"region_3\":\"East\"}, axis=1, inplace=True)\n",
    "# new_data.rename({\"region_4\":\"West\"}, axis=1, inplace=True)\n",
    "# new_data.rename({\"in-store_0\":\"Online Purchases\"}, axis=1, inplace=True)\n",
    "# new_data.rename({\"in-store_1\": \"In-store Purchases\"}, axis=1, inplace=True)\n",
    "\n",
    "# displays correctly converted and formatted data\n",
    "\n",
    "# new_data.head() "
   ]
  },
  {
   "cell_type": "code",
   "execution_count": 14,
   "id": "b73b8542",
   "metadata": {},
   "outputs": [],
   "source": [
    "# this cell won't be run because, based on mentor feedback, the \"in-store\" and \"region\" variables need to retain their integer\n",
    "# datatpye label so that Machine Learning functions (such as Decision Trees) can be applied to them\n",
    "\n",
    "# code reflecting mentor feedback -- using Label Encoding -- this method simplifies the data unlike using both the get_dummies and rename functions\n",
    "\n",
    "# this changes the data type of the \"in-store\" and \"region\" columns to be categorical instead of numerical\n",
    "\n",
    "# this means that math cannot be done on these columns\n",
    "\n",
    "#data[[\"in-store\", \"region\"]] = data[[\"in-store\", \"region\"]].astype(\"category\")"
   ]
  },
  {
   "cell_type": "code",
   "execution_count": 15,
   "id": "0348171d",
   "metadata": {
    "scrolled": true
   },
   "outputs": [
    {
     "name": "stdout",
     "output_type": "stream",
     "text": [
      "<class 'pandas.core.frame.DataFrame'>\n",
      "Int64Index: 79979 entries, 0 to 79999\n",
      "Data columns (total 5 columns):\n",
      " #   Column    Non-Null Count  Dtype  \n",
      "---  ------    --------------  -----  \n",
      " 0   in-store  79979 non-null  int64  \n",
      " 1   age       79979 non-null  int64  \n",
      " 2   items     79979 non-null  int64  \n",
      " 3   amount    79979 non-null  float64\n",
      " 4   region    79979 non-null  int64  \n",
      "dtypes: float64(1), int64(4)\n",
      "memory usage: 3.7 MB\n"
     ]
    }
   ],
   "source": [
    "data.info()"
   ]
  },
  {
   "cell_type": "markdown",
   "id": "6a1fe131",
   "metadata": {},
   "source": [
    "# Modified Dataframe (duplicate values removed + no null values)"
   ]
  },
  {
   "cell_type": "code",
   "execution_count": 16,
   "id": "47decef5",
   "metadata": {},
   "outputs": [
    {
     "data": {
      "text/plain": [
       "False    79979\n",
       "dtype: int64"
      ]
     },
     "execution_count": 16,
     "metadata": {},
     "output_type": "execute_result"
    }
   ],
   "source": [
    "# confirms that there are no duplicate values in the Modified Dataframe\n",
    "\n",
    "data.duplicated().value_counts()"
   ]
  },
  {
   "cell_type": "code",
   "execution_count": 17,
   "id": "267d5ee6",
   "metadata": {
    "scrolled": true
   },
   "outputs": [
    {
     "data": {
      "text/plain": [
       "in-store    0\n",
       "age         0\n",
       "items       0\n",
       "amount      0\n",
       "region      0\n",
       "dtype: int64"
      ]
     },
     "execution_count": 17,
     "metadata": {},
     "output_type": "execute_result"
    }
   ],
   "source": [
    "# confirms that there are no null values in the Modified Dataframe\n",
    "\n",
    "data.isnull().sum()"
   ]
  },
  {
   "cell_type": "markdown",
   "id": "e3b5e297",
   "metadata": {},
   "source": [
    "# Section 4: Explore the Data: Exploratory Data Analysis (EDA)\n"
   ]
  },
  {
   "cell_type": "code",
   "execution_count": 18,
   "id": "7c0e5821",
   "metadata": {},
   "outputs": [
    {
     "data": {
      "text/plain": [
       "Index(['in-store', 'age', 'items', 'amount', 'region'], dtype='object')"
      ]
     },
     "execution_count": 18,
     "metadata": {},
     "output_type": "execute_result"
    }
   ],
   "source": [
    "header = data.dtypes.index\n",
    "header"
   ]
  },
  {
   "cell_type": "markdown",
   "id": "cf6f1f38",
   "metadata": {},
   "source": [
    "## EDA on the Modified Dataframe"
   ]
  },
  {
   "cell_type": "code",
   "execution_count": 18,
   "id": "f28ad899",
   "metadata": {
    "scrolled": false
   },
   "outputs": [
    {
     "data": {
      "text/plain": [
       "1    39990\n",
       "0    39989\n",
       "Name: in-store, dtype: int64"
      ]
     },
     "execution_count": 18,
     "metadata": {},
     "output_type": "execute_result"
    }
   ],
   "source": [
    "# basically equal number of people who purchased items \"in-store\" (1) versus \"online\" (0)\n",
    "\n",
    "data[\"in-store\"].value_counts()"
   ]
  },
  {
   "cell_type": "code",
   "execution_count": 19,
   "id": "ed7432c3",
   "metadata": {
    "scrolled": true
   },
   "outputs": [
    {
     "data": {
      "text/plain": [
       "1   50.00\n",
       "0   50.00\n",
       "Name: in-store, dtype: float64"
      ]
     },
     "execution_count": 19,
     "metadata": {},
     "output_type": "execute_result"
    }
   ],
   "source": [
    "data[\"in-store\"].value_counts(normalize=True) * 100"
   ]
  },
  {
   "cell_type": "code",
   "execution_count": 20,
   "id": "79c1c471",
   "metadata": {
    "scrolled": true
   },
   "outputs": [
    {
     "data": {
      "text/plain": [
       "in-store  region\n",
       "0         2         19994\n",
       "          4         12994\n",
       "          3          7001\n",
       "1         1         15997\n",
       "          4         12994\n",
       "          3         10999\n",
       "Name: region, dtype: int64"
      ]
     },
     "execution_count": 20,
     "metadata": {},
     "output_type": "execute_result"
    }
   ],
   "source": [
    "data[\"region\"].groupby(data[\"in-store\"]).value_counts()"
   ]
  },
  {
   "cell_type": "code",
   "execution_count": 21,
   "id": "4ce5d59d",
   "metadata": {
    "scrolled": true
   },
   "outputs": [
    {
     "data": {
      "text/plain": [
       "in-store  region\n",
       "0         2        50.00\n",
       "          4        32.49\n",
       "          3        17.51\n",
       "1         1        40.00\n",
       "          4        32.49\n",
       "          3        27.50\n",
       "Name: region, dtype: float64"
      ]
     },
     "execution_count": 21,
     "metadata": {},
     "output_type": "execute_result"
    }
   ],
   "source": [
    "data[\"region\"].groupby(data[\"in-store\"]).value_counts(normalize=True) * 100"
   ]
  },
  {
   "cell_type": "markdown",
   "id": "7d9f0418",
   "metadata": {},
   "source": [
    "## Visualization - Percentage of Purchase Type by Region"
   ]
  },
  {
   "cell_type": "code",
   "execution_count": 22,
   "id": "5aeec919",
   "metadata": {
    "scrolled": false
   },
   "outputs": [
    {
     "data": {
      "image/png": "[encoded data removed]",
      "text/plain": [
       "<Figure size 640x480 with 1 Axes>"
      ]
     },
     "metadata": {},
     "output_type": "display_data"
    }
   ],
   "source": [
    "labels_list = [\"North\", \"South\", \"East\", \"West\"]\n",
    "online_percentages = [0.00, 50.0, 17.51, 32.49]\n",
    "instore_percentages = [40.0, 0.00, 27.50, 32.49]\n",
    "\n",
    "x = np.arange(len(labels_list))\n",
    "\n",
    "# tickvalues = range(0, len(x))\n",
    "\n",
    "width = 0.35\n",
    "\n",
    "fig, ax = plt.subplots()\n",
    "\n",
    "online_bars = ax.bar(x - width/2, online_percentages, width, label=\"Online\")\n",
    "instore_bars = ax.bar(x + width/2, instore_percentages, width, label=\"Instore\")\n",
    "\n",
    "# ax.set_xlabel(\"Region - 1: North 2: South 3: East 4: West\")\n",
    "ax.set_ylabel(\"Percentage (%)\")\n",
    "ax.set_title(\"Percentage of Purchase Type by Region\")\n",
    "ax.set_ylim(0,100)\n",
    "ax.set_xticks(x, labels_list)\n",
    "ax.legend()\n",
    "\n",
    "ax.bar_label(online_bars)\n",
    "ax.bar_label(instore_bars)\n",
    "\n",
    "fig.tight_layout()"
   ]
  },
  {
   "cell_type": "code",
   "execution_count": 23,
   "id": "6e49318c",
   "metadata": {
    "scrolled": false
   },
   "outputs": [],
   "source": [
    "# l = pd.DataFrame({\"0\":[0, 50.00, 17.51, 32.49], \"1\":[40.0, 0, 27.50, 32.49]}, index=[\"North\", \"South\", \"East\", \"West\"])\n",
    "\n",
    "# # l.plot(kind=\"bar\")\n",
    "\n",
    "# lx = l.plot(kind=\"bar\", secondary_y=data[\"in-store\"].sum(), title=\"Percentage of Purchase Type by Region\", xlabel=\"Purchase Type (0 = Online, 1 = In-store) \\n \\n Region (1 = North, 2 = South, 3 = East, 4 = West)\", ylabel=\"Percent (%)\", legend=False)\n",
    "# plt.xticks(rotation=360)\n",
    "# l.plot(figsize=(16, 8), ls=\"None\")\n",
    "\n",
    "# lx.set_ylim(0,100)\n",
    "# lx.legend(title=\"Purchase Type\")\n",
    "\n",
    "# for container in lx.containers:\n",
    "#     lx.bar_label(container)"
   ]
  },
  {
   "cell_type": "code",
   "execution_count": 24,
   "id": "61599ffd",
   "metadata": {
    "scrolled": true
   },
   "outputs": [
    {
     "data": {
      "text/plain": [
       "in-store\n",
       "0   35,891,990.01\n",
       "1   30,956,515.78\n",
       "Name: amount, dtype: float64"
      ]
     },
     "execution_count": 24,
     "metadata": {},
     "output_type": "execute_result"
    }
   ],
   "source": [
    "data[\"amount\"].groupby(data[\"in-store\"]).sum()"
   ]
  },
  {
   "cell_type": "code",
   "execution_count": 25,
   "id": "07c071f1",
   "metadata": {},
   "outputs": [
    {
     "name": "stdout",
     "output_type": "stream",
     "text": [
      "Percentage of total amount by in-store purchases: 46.30846331441988\n",
      "Percentage of total amount by online purchases: 53.69153668558012\n"
     ]
    }
   ],
   "source": [
    "total_amount_in_store = 30956515.78\n",
    "total_amount_online = 35891990.01\n",
    "\n",
    "total_amount = total_amount_in_store + total_amount_online\n",
    "\n",
    "percentage_total_amount_in_store = (total_amount_in_store / total_amount) * 100\n",
    "percentage_total_amount_online = (total_amount_online / total_amount) * 100\n",
    "\n",
    "print(f\"Percentage of total amount by in-store purchases: {percentage_total_amount_in_store}\")\n",
    "print(f\"Percentage of total amount by online purchases: {percentage_total_amount_online}\")"
   ]
  },
  {
   "cell_type": "code",
   "execution_count": null,
   "id": "435739b8",
   "metadata": {},
   "outputs": [],
   "source": []
  },
  {
   "cell_type": "code",
   "execution_count": 26,
   "id": "a2009755",
   "metadata": {},
   "outputs": [
    {
     "name": "stdout",
     "output_type": "stream",
     "text": [
      "in-store  region\n",
      "0         2         19994\n",
      "          4         12994\n",
      "          3          7001\n",
      "1         1         15997\n",
      "          4         12994\n",
      "          3         10999\n",
      "Name: region, dtype: int64 \n",
      "\n",
      "in-store  region\n",
      "0         2        50.00\n",
      "          4        32.49\n",
      "          3        17.51\n",
      "1         1        40.00\n",
      "          4        32.49\n",
      "          3        27.50\n",
      "Name: region, dtype: float64\n"
     ]
    }
   ],
   "source": [
    "v = data[\"region\"].groupby(data[\"in-store\"]).value_counts() \n",
    "\n",
    "x = data[\"region\"].groupby(data[\"in-store\"]).value_counts(normalize=True) * 100\n",
    "\n",
    "print(v, \"\\n\")\n",
    "print(x)"
   ]
  },
  {
   "cell_type": "code",
   "execution_count": 27,
   "id": "74e92169",
   "metadata": {},
   "outputs": [
    {
     "data": {
      "text/plain": [
       "46.0"
      ]
     },
     "execution_count": 27,
     "metadata": {},
     "output_type": "execute_result"
    }
   ],
   "source": [
    "#average age of person in the dataset\n",
    "\n",
    "#confirmed by applying the describe() function on the data\n",
    "\n",
    "data[\"age\"].mean().round()"
   ]
  },
  {
   "cell_type": "code",
   "execution_count": 28,
   "id": "64df01f5",
   "metadata": {
    "scrolled": true
   },
   "outputs": [
    {
     "data": {
      "text/plain": [
       "53    1829\n",
       "32    1788\n",
       "42    1784\n",
       "36    1784\n",
       "34    1783\n",
       "46    1775\n",
       "54    1773\n",
       "39    1771\n",
       "50    1769\n",
       "47    1768\n",
       "Name: age, dtype: int64"
      ]
     },
     "execution_count": 28,
     "metadata": {},
     "output_type": "execute_result"
    }
   ],
   "source": [
    "# ages 32 to 54 are the top 10 most occuring ages \n",
    "\n",
    "# may indicate that working-aged individuals purchased more items generally\n",
    "\n",
    "\n",
    "data[\"age\"].value_counts().head(10)"
   ]
  },
  {
   "cell_type": "code",
   "execution_count": 29,
   "id": "435c6761",
   "metadata": {},
   "outputs": [
    {
     "data": {
      "text/plain": [
       "84    373\n",
       "81    371\n",
       "78    369\n",
       "77    363\n",
       "80    344\n",
       "75    334\n",
       "76    327\n",
       "79    320\n",
       "18    223\n",
       "85    185\n",
       "Name: age, dtype: int64"
      ]
     },
     "execution_count": 29,
     "metadata": {},
     "output_type": "execute_result"
    }
   ],
   "source": [
    "# ages 18 and 75 to 85 are the bottom 10 least occuring ages \n",
    "\n",
    "# may indicate that working-aged individuals purchased more items generally\n",
    "\n",
    "data[\"age\"].value_counts().tail(10)"
   ]
  },
  {
   "cell_type": "code",
   "execution_count": 30,
   "id": "befea3b8",
   "metadata": {
    "scrolled": true
   },
   "outputs": [
    {
     "data": {
      "text/plain": [
       "4    11594\n",
       "6    11519\n",
       "3    11486\n",
       "7    11376\n",
       "2    11284\n",
       "5    11233\n",
       "8     5788\n",
       "1     5699\n",
       "Name: items, dtype: int64"
      ]
     },
     "execution_count": 30,
     "metadata": {},
     "output_type": "execute_result"
    }
   ],
   "source": [
    "# may indicate that most purchases involved between 2 to 7 items\n",
    "\n",
    "# this is basically confirmed when the describe() function is applied to the data\n",
    "\n",
    "# 68492 total items refer to purchase amounts between 2 to 7\n",
    "\n",
    "# 11487 total items refer to purchase amounts of 1 and 8\n",
    "\n",
    "# 68492 + 11487 = 79979 (number of elements of corrected dataset)\n",
    "\n",
    "data[\"items\"].value_counts()"
   ]
  },
  {
   "cell_type": "code",
   "execution_count": 31,
   "id": "5fd12aa7",
   "metadata": {},
   "outputs": [
    {
     "data": {
      "text/plain": [
       "4   14.50\n",
       "6   14.40\n",
       "3   14.40\n",
       "7   14.20\n",
       "2   14.10\n",
       "5   14.00\n",
       "8    7.20\n",
       "1    7.10\n",
       "Name: items, dtype: float64"
      ]
     },
     "execution_count": 31,
     "metadata": {},
     "output_type": "execute_result"
    }
   ],
   "source": [
    "# about 85% of purchases involved item amounts between 2 and 7\n",
    "# the remaining 15% of purchases involved item amounts of 1 or 8\n",
    "\n",
    "data[\"items\"].value_counts(normalize=True).round(3) * 100\n",
    "\n"
   ]
  },
  {
   "cell_type": "code",
   "execution_count": 32,
   "id": "f4561d1f",
   "metadata": {},
   "outputs": [
    {
     "data": {
      "text/plain": [
       "4    25988\n",
       "2    19994\n",
       "3    18000\n",
       "1    15997\n",
       "Name: region, dtype: int64"
      ]
     },
     "execution_count": 32,
     "metadata": {},
     "output_type": "execute_result"
    }
   ],
   "source": [
    "# nearly 26k people are from the West region\n",
    "# nearly 20k people are from the South region\n",
    "# 18k people are from the East region\n",
    "# nearly 16k people are from the North region\n",
    "\n",
    "data[\"region\"].value_counts()"
   ]
  },
  {
   "cell_type": "code",
   "execution_count": 33,
   "id": "424d0b7d",
   "metadata": {
    "scrolled": false
   },
   "outputs": [
    {
     "data": {
      "text/plain": [
       "4   32.00\n",
       "2   25.00\n",
       "3   23.00\n",
       "1   20.00\n",
       "Name: region, dtype: float64"
      ]
     },
     "execution_count": 33,
     "metadata": {},
     "output_type": "execute_result"
    }
   ],
   "source": [
    "# nearly 1/3 of purchases came from the West region\n",
    "\n",
    "# nearly 1/2 of purchases came from the South and East regions when combined\n",
    "\n",
    "data[\"region\"].value_counts(normalize=True).round(2) * 100"
   ]
  },
  {
   "cell_type": "code",
   "execution_count": 34,
   "id": "cb3af717",
   "metadata": {},
   "outputs": [
    {
     "data": {
      "text/plain": [
       "79979"
      ]
     },
     "execution_count": 34,
     "metadata": {},
     "output_type": "execute_result"
    }
   ],
   "source": [
    "records = len(data)\n",
    "records"
   ]
  },
  {
   "cell_type": "code",
   "execution_count": 35,
   "id": "75effbb8",
   "metadata": {},
   "outputs": [
    {
     "data": {
      "text/plain": [
       "2    100\n",
       "Name: region, dtype: int64"
      ]
     },
     "execution_count": 35,
     "metadata": {},
     "output_type": "execute_result"
    }
   ],
   "source": [
    "# displays the top 100 lowest (least) \"amount\" values along with \"items\"\n",
    "\n",
    "data_s = data.nsmallest(records, [\"amount\", \"items\"]).head(100)\n",
    "data_s[\"region\"].value_counts()"
   ]
  },
  {
   "cell_type": "code",
   "execution_count": 36,
   "id": "f5256d26",
   "metadata": {},
   "outputs": [
    {
     "data": {
      "text/plain": [
       "4    63\n",
       "3    37\n",
       "Name: region, dtype: int64"
      ]
     },
     "execution_count": 36,
     "metadata": {},
     "output_type": "execute_result"
    }
   ],
   "source": [
    "# displays the top 100 highest (greatest) \"amount\" values along with \"items\"\n",
    "\n",
    "data_l = data.nlargest(records, [\"amount\", \"items\"]).head(100)\n",
    "data_l[\"region\"].value_counts()"
   ]
  },
  {
   "cell_type": "code",
   "execution_count": 51,
   "id": "7d0cd27b",
   "metadata": {},
   "outputs": [
    {
     "data": {
      "text/plain": [
       "0    18-30\n",
       "1    18-30\n",
       "2    31-60\n",
       "3    31-60\n",
       "4    18-30\n",
       "Name: age_groups, dtype: category\n",
       "Categories (3, object): ['18-30' < '31-60' < '61-90']"
      ]
     },
     "execution_count": 51,
     "metadata": {},
     "output_type": "execute_result"
    }
   ],
   "source": [
    "data[\"age_groups\"] = pd.cut(data[\"age\"], bins=3, labels=[\"18-30\", \"31-60\", \"61-90\"])\n",
    "\n",
    "data[\"age_groups\"].head()"
   ]
  },
  {
   "cell_type": "markdown",
   "id": "1df10907",
   "metadata": {},
   "source": [
    "## Visualization - Histogram by Age Groups"
   ]
  },
  {
   "cell_type": "code",
   "execution_count": 56,
   "id": "a614cd22",
   "metadata": {},
   "outputs": [
    {
     "data": {
      "image/png": "[encoded data removed]",
      "text/plain": [
       "<Figure size 640x480 with 1 Axes>"
      ]
     },
     "metadata": {},
     "output_type": "display_data"
    }
   ],
   "source": [
    "# clearly indicates that customers between 18 and 60 years old make up the overwhelming majority of people \n",
    "# who have made purchases\n",
    "\n",
    "plt.hist(data[\"age_groups\"], bins=6)\n",
    "plt.title(\"Histogram by Age Groups\")\n",
    "plt.xlabel(\"Age Groups\")\n",
    "plt.ylabel(\"Count\")\n",
    "plt.show()"
   ]
  },
  {
   "cell_type": "code",
   "execution_count": 39,
   "id": "b30bfa52",
   "metadata": {},
   "outputs": [
    {
     "data": {
      "text/plain": [
       "31-60    34403\n",
       "18-30    32885\n",
       "61-90    12691\n",
       "Name: age_groups, dtype: int64"
      ]
     },
     "execution_count": 39,
     "metadata": {},
     "output_type": "execute_result"
    }
   ],
   "source": [
    "data[\"age_groups\"].value_counts()"
   ]
  },
  {
   "cell_type": "code",
   "execution_count": 40,
   "id": "27838f58",
   "metadata": {},
   "outputs": [
    {
     "data": {
      "text/plain": [
       "31-60   43.02\n",
       "18-30   41.12\n",
       "61-90   15.87\n",
       "Name: age_groups, dtype: float64"
      ]
     },
     "execution_count": 40,
     "metadata": {},
     "output_type": "execute_result"
    }
   ],
   "source": [
    "# ~ 84% of purchases came from people between the ages of 18 and 60 years old\n",
    "\n",
    "# 43% of purchases came from people between the ages of 31 and 60 years old\n",
    "\n",
    "# 41% of purchases came from people between the ages of 18 and 30 years old\n",
    "\n",
    "# Only 15% of purchases came from people between the ages of 61 and 90 years old.\n",
    "\n",
    "data[\"age_groups\"].value_counts(normalize=True) * 100"
   ]
  },
  {
   "cell_type": "code",
   "execution_count": 41,
   "id": "3103dcd4",
   "metadata": {},
   "outputs": [],
   "source": [
    "df_1 = data\n",
    "df_2 = data[\"age_groups\"]\n",
    "frames = [df_1, df_2]\n",
    "\n",
    "df_3 = pd.concat(frames)\n",
    "\n",
    "df_3.drop(columns=0, inplace=True)"
   ]
  },
  {
   "cell_type": "code",
   "execution_count": 42,
   "id": "1ee6792f",
   "metadata": {
    "scrolled": false
   },
   "outputs": [
    {
     "data": {
      "text/plain": [
       "age_groups  region\n",
       "18-30       4.00      14279\n",
       "            1.00       7165\n",
       "            3.00       7081\n",
       "            2.00       4360\n",
       "31-60       4.00      11581\n",
       "            3.00       8376\n",
       "            2.00       7681\n",
       "            1.00       6765\n",
       "61-90       2.00       7953\n",
       "            3.00       2543\n",
       "            1.00       2067\n",
       "            4.00        128\n",
       "Name: region, dtype: int64"
      ]
     },
     "execution_count": 42,
     "metadata": {},
     "output_type": "execute_result"
    }
   ],
   "source": [
    "# amount of people, by age group, in each region\n",
    "\n",
    "# West region has the most people\n",
    "\n",
    "df_3[\"region\"].groupby(df_3[\"age_groups\"]).value_counts()"
   ]
  },
  {
   "cell_type": "code",
   "execution_count": 43,
   "id": "885178be",
   "metadata": {
    "scrolled": true
   },
   "outputs": [
    {
     "data": {
      "text/plain": [
       "age_groups  region\n",
       "18-30       4.00     43.42\n",
       "            1.00     21.79\n",
       "            3.00     21.53\n",
       "            2.00     13.26\n",
       "31-60       4.00     33.66\n",
       "            3.00     24.35\n",
       "            2.00     22.33\n",
       "            1.00     19.66\n",
       "61-90       2.00     62.67\n",
       "            3.00     20.04\n",
       "            1.00     16.29\n",
       "            4.00      1.01\n",
       "Name: region, dtype: float64"
      ]
     },
     "execution_count": 43,
     "metadata": {},
     "output_type": "execute_result"
    }
   ],
   "source": [
    "# amount of people expressed as percentage, by age group, in each region \n",
    "\n",
    "df_3[\"region\"].groupby(df_3[\"age_groups\"]).value_counts(normalize=True) * 100"
   ]
  },
  {
   "cell_type": "code",
   "execution_count": 44,
   "id": "70ee9afa",
   "metadata": {
    "scrolled": true
   },
   "outputs": [
    {
     "data": {
      "text/plain": [
       "age_groups\n",
       "18-30   32,418.20\n",
       "31-60   29,745.95\n",
       "61-90    4,684.35\n",
       "Name: amount, dtype: float64"
      ]
     },
     "execution_count": 44,
     "metadata": {},
     "output_type": "execute_result"
    }
   ],
   "source": [
    "df_3[\"amount\"].groupby(df_3[\"age_groups\"]).sum() / 1000"
   ]
  },
  {
   "cell_type": "markdown",
   "id": "5a22728a",
   "metadata": {},
   "source": [
    "## Visualization - Total Sales by Age Groups"
   ]
  },
  {
   "cell_type": "code",
   "execution_count": 45,
   "id": "3d179d04",
   "metadata": {},
   "outputs": [
    {
     "data": {
      "text/plain": [
       "(array([0, 1, 2]),\n",
       " [Text(0, 0, '18-30'), Text(1, 0, '31-60'), Text(2, 0, '61-90')])"
      ]
     },
     "execution_count": 45,
     "metadata": {},
     "output_type": "execute_result"
    },
    {
     "data": {
      "image/png": "[encoded data removed]",
      "text/plain": [
       "<Figure size 640x480 with 1 Axes>"
      ]
     },
     "metadata": {},
     "output_type": "display_data"
    }
   ],
   "source": [
    "e = {\"Age groups\": [\"\", \"\", \"\"], \"Total Amount by Age groups\": [32418.20, 29745.95, 4684.35]}\n",
    "\n",
    "df_6 = pd.DataFrame(data=e, index=[\"18-30\", \"31-60\", \"61-90\"])\n",
    "\n",
    "ax = df_6.plot(kind=\"bar\", color= \"red\", xlabel=\"Age groups\", ylabel=\"Count\", title=\"Total Sales by Age groups (in thousands)\", legend=False)\n",
    "\n",
    "for container in ax.containers:\n",
    "    ax.bar_label(container)\n",
    "    \n",
    "plt.xticks(rotation=360)"
   ]
  },
  {
   "cell_type": "code",
   "execution_count": 46,
   "id": "aa50d8c4",
   "metadata": {
    "scrolled": false
   },
   "outputs": [
    {
     "data": {
      "text/html": [
       "<div>\n",
       "<style scoped>\n",
       "    .dataframe tbody tr th:only-of-type {\n",
       "        vertical-align: middle;\n",
       "    }\n",
       "\n",
       "    .dataframe tbody tr th {\n",
       "        vertical-align: top;\n",
       "    }\n",
       "\n",
       "    .dataframe thead th {\n",
       "        text-align: right;\n",
       "    }\n",
       "</style>\n",
       "<table border=\"1\" class=\"dataframe\">\n",
       "  <thead>\n",
       "    <tr style=\"text-align: right;\">\n",
       "      <th></th>\n",
       "      <th>amount</th>\n",
       "    </tr>\n",
       "    <tr>\n",
       "      <th>region</th>\n",
       "      <th></th>\n",
       "    </tr>\n",
       "  </thead>\n",
       "  <tbody>\n",
       "    <tr>\n",
       "      <th>1</th>\n",
       "      <td>11,917,620.05</td>\n",
       "    </tr>\n",
       "    <tr>\n",
       "      <th>2</th>\n",
       "      <td>5,040,442.24</td>\n",
       "    </tr>\n",
       "    <tr>\n",
       "      <th>3</th>\n",
       "      <td>16,523,453.47</td>\n",
       "    </tr>\n",
       "    <tr>\n",
       "      <th>4</th>\n",
       "      <td>33,366,990.02</td>\n",
       "    </tr>\n",
       "  </tbody>\n",
       "</table>\n",
       "</div>"
      ],
      "text/plain": [
       "              amount\n",
       "region              \n",
       "1      11,917,620.05\n",
       "2       5,040,442.24\n",
       "3      16,523,453.47\n",
       "4      33,366,990.02"
      ]
     },
     "execution_count": 46,
     "metadata": {},
     "output_type": "execute_result"
    }
   ],
   "source": [
    "summed_data = data[[\"amount\", \"region\"]].groupby(\"region\").sum()\n",
    "\n",
    "summed_data\n"
   ]
  },
  {
   "cell_type": "code",
   "execution_count": 47,
   "id": "1d5c752d",
   "metadata": {},
   "outputs": [
    {
     "name": "stdout",
     "output_type": "stream",
     "text": [
      "The total sales is $66848505.78\n",
      "\n",
      "\n",
      "Percentage of Total Sales for North Region: 17.827803196112068\n",
      "Percentage of Total Sales for South Region: 7.540097091456635\n",
      "Percentage of Total Sales for East Region: 24.717760370559475\n",
      "Percentage of Total Sales for West Region: 49.91433934187182\n"
     ]
    }
   ],
   "source": [
    "data[[\"amount\", \"region\"]].groupby(\"region\").sum()\n",
    "\n",
    "total_amount_1 = 11917620.05\n",
    "total_amount_2 = 5040442.24\n",
    "total_amount_3 = 16523453.47\n",
    "total_amount_4 = 33366990.02\n",
    "\n",
    "total_full = sum([total_amount_1, total_amount_2, total_amount_3, total_amount_4])\n",
    "\n",
    "print(f\"The total sales is ${total_full}\")\n",
    "print(\"\\n\")\n",
    "\n",
    "percentage_1 = (total_amount_1 / total_full) * 100\n",
    "percentage_2 = (total_amount_2 / total_full) * 100\n",
    "percentage_3 = (total_amount_3 / total_full) * 100\n",
    "percentage_4 = (total_amount_4 / total_full) * 100\n",
    "\n",
    "print(f\"Percentage of Total Sales for North Region: {percentage_1}\")\n",
    "print(f\"Percentage of Total Sales for South Region: {percentage_2}\")\n",
    "print(f\"Percentage of Total Sales for East Region: {percentage_3}\")\n",
    "print(f\"Percentage of Total Sales for West Region: {percentage_4}\")\n",
    "\n"
   ]
  },
  {
   "cell_type": "markdown",
   "id": "f233b734",
   "metadata": {},
   "source": [
    "## Visualization - Total Sales by Region"
   ]
  },
  {
   "cell_type": "code",
   "execution_count": 48,
   "id": "db31d562",
   "metadata": {
    "scrolled": false
   },
   "outputs": [
    {
     "data": {
      "text/plain": [
       "(array([0, 1, 2, 3]),\n",
       " [Text(0, 0, 'North'),\n",
       "  Text(1, 0, 'South'),\n",
       "  Text(2, 0, 'East'),\n",
       "  Text(3, 0, 'West')])"
      ]
     },
     "execution_count": 48,
     "metadata": {},
     "output_type": "execute_result"
    },
    {
     "data": {
      "image/png": "[encoded data removed]",
      "text/plain": [
       "<Figure size 640x480 with 1 Axes>"
      ]
     },
     "metadata": {},
     "output_type": "display_data"
    }
   ],
   "source": [
    "d = {\"Region\": [\"\", \"\", \"\", \"\"], \"Total Amount by Region\": [11917.62, 5040.44, 16523.45, 33366.99]}\n",
    "\n",
    "df_4 = pd.DataFrame(data=d, index=[\"North\", \"South\", \"East\", \"West\"])\n",
    "\n",
    "ax = df_4.plot(kind=\"bar\", xlabel=\"Region\", ylabel=\"Count\", title=\"Total Sales by Region (in thousands)\", legend=False, color=\"green\")\n",
    "\n",
    "for container in ax.containers:\n",
    "    ax.bar_label(container)\n",
    "    \n",
    "plt.xticks(rotation=360)"
   ]
  },
  {
   "cell_type": "code",
   "execution_count": 49,
   "id": "2c05910a",
   "metadata": {},
   "outputs": [
    {
     "data": {
      "text/plain": [
       "0            $0-$300\n",
       "1            $0-$300\n",
       "2        $1501-$1800\n",
       "3          $601-$900\n",
       "4        $1801-$2100\n",
       "            ...     \n",
       "79995      $301-$600\n",
       "79996    $1801-$2100\n",
       "79997      $301-$600\n",
       "79998      $301-$600\n",
       "79999      $301-$600\n",
       "Name: amount_bin, Length: 79979, dtype: category\n",
       "Categories (10, object): ['$0-$300' < '$301-$600' < '$601-$900' < '$901-$1200' ... '$1801-$2100' < '$2101-$2400' < '$2401-$2700' < '$2701-$3000']"
      ]
     },
     "execution_count": 49,
     "metadata": {},
     "output_type": "execute_result"
    }
   ],
   "source": [
    "# data[\"amount_bin\"] = pd.cut(data[\"amount\"], bins=3, labels=[\"$0-1000\", \"$1000-2000\", \"$2000-3000\"])\n",
    "data[\"amount_bin\"] = pd.cut(data[\"amount\"], bins=10, labels=[\"$0-$300\", \"$301-$600\", \"$601-$900\", \"$901-$1200\", \"$1201-$1500\", \"$1501-$1800\", \"$1801-$2100\", \"$2101-$2400\", \"$2401-$2700\", \"$2701-$3000\"])\n",
    "data[\"amount_bin\"]"
   ]
  },
  {
   "cell_type": "code",
   "execution_count": 50,
   "id": "3bc119da",
   "metadata": {},
   "outputs": [
    {
     "data": {
      "text/plain": [
       "$0-$300        21553\n",
       "$301-$600      19284\n",
       "$601-$900      11459\n",
       "$901-$1200      7151\n",
       "$1201-$1500     5184\n",
       "$1501-$1800     5151\n",
       "$1801-$2100     4127\n",
       "$2401-$2700     2046\n",
       "$2101-$2400     2014\n",
       "$2701-$3000     2010\n",
       "Name: amount_bin, dtype: int64"
      ]
     },
     "execution_count": 50,
     "metadata": {},
     "output_type": "execute_result"
    }
   ],
   "source": [
    "data[\"amount_bin\"].value_counts()"
   ]
  },
  {
   "cell_type": "code",
   "execution_count": 51,
   "id": "d6f8ace4",
   "metadata": {},
   "outputs": [
    {
     "data": {
      "text/plain": [
       "$0-$300       26.95\n",
       "$301-$600     24.11\n",
       "$601-$900     14.33\n",
       "$901-$1200     8.94\n",
       "$1201-$1500    6.48\n",
       "$1501-$1800    6.44\n",
       "$1801-$2100    5.16\n",
       "$2401-$2700    2.56\n",
       "$2101-$2400    2.52\n",
       "$2701-$3000    2.51\n",
       "Name: amount_bin, dtype: float64"
      ]
     },
     "execution_count": 51,
     "metadata": {},
     "output_type": "execute_result"
    }
   ],
   "source": [
    "data[\"amount_bin\"].value_counts(normalize=True) * 100"
   ]
  },
  {
   "cell_type": "markdown",
   "id": "01adec18",
   "metadata": {},
   "source": [
    "## Visualization - Breakdown of Purchase Amounts"
   ]
  },
  {
   "cell_type": "code",
   "execution_count": 52,
   "id": "377bcabc",
   "metadata": {
    "scrolled": false
   },
   "outputs": [
    {
     "data": {
      "image/png": "[encoded data removed]",
      "text/plain": [
       "<Figure size 1280x640 with 1 Axes>"
      ]
     },
     "metadata": {},
     "output_type": "display_data"
    }
   ],
   "source": [
    "df_5 = data[\"amount_bin\"].value_counts()\n",
    "\n",
    "ax = df_5.plot(kind=\"bar\", xlabel=\"Purchase Amount Groups ($)\", ylabel=\"Count\", title=\"Breakdown of Purchase Amounts (in dollars)\")\n",
    "plt.xticks(rotation=360)\n",
    "df_5.plot(figsize=(16, 8), ls=\"None\")\n",
    "\n",
    "for container in ax.containers:\n",
    "    ax.bar_label(container)\n"
   ]
  },
  {
   "cell_type": "code",
   "execution_count": 53,
   "id": "822301bf",
   "metadata": {
    "scrolled": false
   },
   "outputs": [
    {
     "name": "stdout",
     "output_type": "stream",
     "text": [
      "region             \n",
      "1       $2101-$2400    0.00\n",
      "        $2401-$2700    0.00\n",
      "        $2701-$3000    0.00\n",
      "        $1801-$2100    4.38\n",
      "        $1501-$1800    6.85\n",
      "        $1201-$1500    6.90\n",
      "        $901-$1200    12.46\n",
      "        $0-$300       20.74\n",
      "        $601-$900     24.21\n",
      "        $301-$600     24.46\n",
      "2       $601-$900      0.00\n",
      "        $901-$1200     0.00\n",
      "        $1201-$1500    0.00\n",
      "        $1501-$1800    0.00\n",
      "        $1801-$2100    0.00\n",
      "        $2101-$2400    0.00\n",
      "        $2401-$2700    0.00\n",
      "        $2701-$3000    0.00\n",
      "        $301-$600     39.18\n",
      "        $0-$300       60.82\n",
      "3       $2701-$3000    3.75\n",
      "        $2101-$2400    3.80\n",
      "        $1501-$1800    3.99\n",
      "        $1201-$1500    4.06\n",
      "        $2401-$2700    4.16\n",
      "        $1801-$2100    4.29\n",
      "        $901-$1200    10.13\n",
      "        $0-$300       19.55\n",
      "        $601-$900     22.91\n",
      "        $301-$600     23.36\n",
      "4       $2401-$2700    4.99\n",
      "        $2101-$2400    5.12\n",
      "        $2701-$3000    5.14\n",
      "        $0-$300        9.84\n",
      "        $1801-$2100   10.21\n",
      "        $301-$600     12.82\n",
      "        $901-$1200    12.83\n",
      "        $1501-$1800   12.84\n",
      "        $1201-$1500   12.89\n",
      "        $601-$900     13.32\n",
      "Name: amount_bin, dtype: float64\n"
     ]
    }
   ],
   "source": [
    "print(data[\"amount_bin\"].groupby(data[\"region\"]).value_counts(ascending=True, normalize=True) * 100) "
   ]
  },
  {
   "cell_type": "code",
   "execution_count": 54,
   "id": "18e3c46a",
   "metadata": {
    "scrolled": false
   },
   "outputs": [],
   "source": [
    "# df_north = data[(data[\"region\"] == 1) & (data[\"region\"] < 2)]\n",
    "# df_north = df_north[\"amount_bin\"].value_counts(ascending=True)\n",
    "# bar_north = df_north.plot(kind=\"barh\", title=\"Purchase Amount Distribution in North region\", xlabel = \"Purchase Amount ($)\", sort_columns=True)"
   ]
  },
  {
   "cell_type": "code",
   "execution_count": 55,
   "id": "f9d769b1",
   "metadata": {},
   "outputs": [],
   "source": [
    "# df_south = data[(data[\"region\"] == 2) & (data[\"region\"] < 3)]\n",
    "# df_south = df_south[\"amount_bin\"].value_counts(ascending=True)\n",
    "# bar_south = df_south.plot(kind=\"barh\", title=\"Purchase Amount Distribution in South region\", xlabel = \"Purchase Amount ($)\", sort_columns=True)"
   ]
  },
  {
   "cell_type": "code",
   "execution_count": 56,
   "id": "71f84711",
   "metadata": {},
   "outputs": [],
   "source": [
    "# df_east = data[(data[\"region\"] == 3) & (data[\"region\"] < 4)]\n",
    "# df_east = df_east[\"amount_bin\"].value_counts(ascending=True)\n",
    "# bar_east = df_east.plot(kind=\"barh\", title=\"Purchase Amount Distribution in East region\", xlabel = \"Purchase Amount ($)\", sort_columns=True)"
   ]
  },
  {
   "cell_type": "code",
   "execution_count": 57,
   "id": "5b379b4c",
   "metadata": {},
   "outputs": [],
   "source": [
    "# df_west = data[(data[\"region\"] == 4) & (data[\"region\"] > 3)]\n",
    "# df_west = df_west[\"amount_bin\"].value_counts(ascending=True)\n",
    "# bar_west = df_west.plot(kind=\"barh\", title=\"Purchase Amount Distribution in West region\", xlabel = \"Purchase Amount ($)\", sort_columns=True)"
   ]
  },
  {
   "cell_type": "markdown",
   "id": "da138188",
   "metadata": {},
   "source": [
    "## Visualization - Transaction Range Percentages by Region"
   ]
  },
  {
   "cell_type": "code",
   "execution_count": 58,
   "id": "d34302e8",
   "metadata": {
    "scrolled": false
   },
   "outputs": [
    {
     "data": {
      "text/plain": [
       "(array([0, 1, 2, 3, 4, 5, 6, 7, 8, 9]),\n",
       " [Text(0, 0, '$0-$300'),\n",
       "  Text(1, 0, '$301-$600'),\n",
       "  Text(2, 0, '$601-$900'),\n",
       "  Text(3, 0, '$901-$1200'),\n",
       "  Text(4, 0, '$1201-$1500'),\n",
       "  Text(5, 0, '$1501-$1800'),\n",
       "  Text(6, 0, '$1801-$2100'),\n",
       "  Text(7, 0, '$2101-$2400'),\n",
       "  Text(8, 0, '$2401-$2700'),\n",
       "  Text(9, 0, '$2701-$3000')])"
      ]
     },
     "execution_count": 58,
     "metadata": {},
     "output_type": "execute_result"
    },
    {
     "data": {
      "image/png": "[encoded data removed]",
      "text/plain": [
       "<Figure size 640x480 with 1 Axes>"
      ]
     },
     "metadata": {},
     "output_type": "display_data"
    }
   ],
   "source": [
    "plotdata = pd.DataFrame({\n",
    "    \"North\":[20.74, 24.46, 24.21, 12.46, 6.90, 6.85, 4.38, 0.00, 0.00, 0.00],\n",
    "    \"South\":[60.82, 39.18, 0.00, 0.00, 0.00, 0.00, 0.00, 0.00, 0.00, 0.00],\n",
    "    \"East\":[19.55, 23.36, 22.91, 10.13, 4.06, 3.99, 4.29, 3.80, 4.16, 3.75],\n",
    "    \"West\":[9.84, 12.82, 13.32, 12.83, 12.89, 12.84, 10.21, 5.12, 4.99, 5.14],\n",
    "    },\n",
    "    index=[\"$0-$300\",\n",
    "           \"$301-$600\",\n",
    "           \"$601-$900\",\n",
    "           \"$901-$1200\",\n",
    "           \"$1201-$1500\",\n",
    "           \"$1501-$1800\",\n",
    "           \"$1801-$2100\",\n",
    "           \"$2101-$2400\",\n",
    "           \"$2401-$2700\",\n",
    "           \"$2701-$3000\"\n",
    "    ]\n",
    ")\n",
    "\n",
    "plotdata.plot(kind=\"bar\", stacked=True)\n",
    "plt.title(\"Transaction Range Percentages by Region\")\n",
    "plt.ylabel(\"Percentage (%)\")\n",
    "plt.xlabel(\"Transaction Range ($)\")\n",
    "plt.xticks(rotation=30)\n"
   ]
  },
  {
   "cell_type": "code",
   "execution_count": 59,
   "id": "964a8e84",
   "metadata": {
    "scrolled": true
   },
   "outputs": [
    {
     "data": {
      "text/plain": [
       "items             \n",
       "1      $2401-$2700   0.02\n",
       "       $2701-$3000   0.03\n",
       "       $2101-$2400   0.03\n",
       "       $1801-$2100   0.05\n",
       "       $1501-$1800   0.06\n",
       "                     ... \n",
       "8      $1201-$1500   0.07\n",
       "       $901-$1200    0.09\n",
       "       $601-$900     0.14\n",
       "       $301-$600     0.24\n",
       "       $0-$300       0.26\n",
       "Name: amount_bin, Length: 80, dtype: float64"
      ]
     },
     "execution_count": 59,
     "metadata": {},
     "output_type": "execute_result"
    }
   ],
   "source": [
    "data[\"amount_bin\"].groupby(data[\"items\"]).value_counts(ascending=True, normalize=True * 100)"
   ]
  },
  {
   "cell_type": "code",
   "execution_count": 60,
   "id": "c667892d",
   "metadata": {
    "scrolled": false
   },
   "outputs": [
    {
     "name": "stdout",
     "output_type": "stream",
     "text": [
      "amount_bin   items\n",
      "$0-$300      1       27.09\n",
      "$301-$600    1       24.50\n",
      "$601-$900    1       13.98\n",
      "$901-$1200   1        9.49\n",
      "$1201-$1500  1        6.32\n",
      "$1501-$1800  1        6.14\n",
      "$1801-$2100  1        5.07\n",
      "$2101-$2400  1        2.63\n",
      "$2701-$3000  1        2.53\n",
      "$2401-$2700  1        2.25\n",
      "dtype: float64\n",
      "\n",
      "\n",
      "amount_bin   items\n",
      "$0-$300      2       27.05\n",
      "$301-$600    2       23.69\n",
      "$601-$900    2       14.27\n",
      "$901-$1200   2        8.76\n",
      "$1501-$1800  2        6.63\n",
      "$1201-$1500  2        6.27\n",
      "$1801-$2100  2        5.39\n",
      "$2401-$2700  2        2.76\n",
      "$2101-$2400  2        2.62\n",
      "$2701-$3000  2        2.58\n",
      "dtype: float64\n",
      "\n",
      "\n",
      "amount_bin   items\n",
      "$0-$300      3       26.50\n",
      "$301-$600    3       24.28\n",
      "$601-$900    3       14.43\n",
      "$901-$1200   3        8.78\n",
      "$1201-$1500  3        7.01\n",
      "$1501-$1800  3        6.43\n",
      "$1801-$2100  3        5.22\n",
      "$2401-$2700  3        2.55\n",
      "$2101-$2400  3        2.49\n",
      "$2701-$3000  3        2.32\n",
      "dtype: float64\n",
      "\n",
      "\n",
      "amount_bin   items\n",
      "$0-$300      4       27.15\n",
      "$301-$600    4       24.18\n",
      "$601-$900    4       14.78\n",
      "$901-$1200   4        8.81\n",
      "$1501-$1800  4        6.50\n",
      "$1201-$1500  4        6.06\n",
      "$1801-$2100  4        4.81\n",
      "$2701-$3000  4        2.72\n",
      "$2401-$2700  4        2.60\n",
      "$2101-$2400  4        2.37\n",
      "dtype: float64\n",
      "\n",
      "\n",
      "amount_bin   items\n",
      "$0-$300      5       26.80\n",
      "$301-$600    5       23.88\n",
      "$601-$900    5       14.48\n",
      "$901-$1200   5        9.46\n",
      "$1501-$1800  5        6.50\n",
      "$1201-$1500  5        6.45\n",
      "$1801-$2100  5        5.11\n",
      "$2101-$2400  5        2.62\n",
      "$2701-$3000  5        2.41\n",
      "$2401-$2700  5        2.28\n",
      "dtype: float64\n",
      "\n",
      "\n",
      "amount_bin   items\n",
      "$0-$300      6       27.20\n",
      "$301-$600    6       24.10\n",
      "$601-$900    6       14.19\n",
      "$901-$1200   6        8.48\n",
      "$1201-$1500  6        6.73\n",
      "$1501-$1800  6        6.65\n",
      "$1801-$2100  6        4.93\n",
      "$2401-$2700  6        2.80\n",
      "$2701-$3000  6        2.47\n",
      "$2101-$2400  6        2.45\n",
      "dtype: float64\n",
      "\n",
      "\n",
      "amount_bin   items\n",
      "$0-$300      7       27.22\n",
      "$301-$600    7       24.17\n",
      "$601-$900    7       14.36\n",
      "$901-$1200   7        9.05\n",
      "$1501-$1800  7        6.20\n",
      "$1201-$1500  7        6.14\n",
      "$1801-$2100  7        5.35\n",
      "$2401-$2700  7        2.52\n",
      "$2701-$3000  7        2.50\n",
      "$2101-$2400  7        2.47\n",
      "dtype: float64\n",
      "\n",
      "\n",
      "amount_bin   items\n",
      "$0-$300      8       26.33\n",
      "$301-$600    8       24.41\n",
      "$601-$900    8       13.58\n",
      "$901-$1200   8        9.02\n",
      "$1201-$1500  8        7.08\n",
      "$1501-$1800  8        6.22\n",
      "$1801-$2100  8        5.55\n",
      "$2701-$3000  8        2.68\n",
      "$2101-$2400  8        2.59\n",
      "$2401-$2700  8        2.54\n",
      "dtype: float64\n",
      "\n",
      "\n"
     ]
    }
   ],
   "source": [
    "df_one_item = data[data[\"items\"].eq(1) & data[\"items\"].lt(2)]\n",
    "print(df_one_item[[\"amount_bin\", \"items\"]].value_counts(normalize=True) * 100)\n",
    "print(\"\\n\")\n",
    "\n",
    "df_two_item = data[data[\"items\"].eq(2) & data[\"items\"].lt(3)]\n",
    "print(df_two_item[[\"amount_bin\", \"items\"]].value_counts(normalize=True)* 100)\n",
    "print(\"\\n\")\n",
    "\n",
    "df_three_item = data[data[\"items\"].eq(3) & data[\"items\"].lt(4)]\n",
    "print(df_three_item[[\"amount_bin\", \"items\"]].value_counts(normalize=True) * 100)\n",
    "print(\"\\n\")\n",
    "\n",
    "df_four_item = data[data[\"items\"].eq(4) & data[\"items\"].lt(5)]\n",
    "print(df_four_item[[\"amount_bin\", \"items\"]].value_counts(normalize=True) * 100)\n",
    "print(\"\\n\")\n",
    "\n",
    "df_five_item = data[data[\"items\"].eq(5) & data[\"items\"].lt(6)]\n",
    "print(df_five_item[[\"amount_bin\", \"items\"]].value_counts(normalize=True) * 100)\n",
    "print(\"\\n\")\n",
    "\n",
    "df_six_item = data[data[\"items\"].eq(6) & data[\"items\"].lt(7)]\n",
    "print(df_six_item[[\"amount_bin\", \"items\"]].value_counts(normalize=True) * 100)\n",
    "print(\"\\n\")\n",
    "\n",
    "df_seven_item = data[data[\"items\"].eq(7) & data[\"items\"].lt(8)]\n",
    "print(df_seven_item[[\"amount_bin\", \"items\"]].value_counts(normalize=True) * 100)\n",
    "print(\"\\n\")\n",
    "\n",
    "df_eight_item = data[data[\"items\"].eq(8) & data[\"items\"].lt(9)]\n",
    "print(df_eight_item[[\"amount_bin\", \"items\"]].value_counts(normalize=True) * 100)\n",
    "print(\"\\n\")"
   ]
  },
  {
   "cell_type": "markdown",
   "id": "22bd6f5d",
   "metadata": {},
   "source": [
    "## Visualization - Tramsaction Range Count by Number of Items"
   ]
  },
  {
   "cell_type": "code",
   "execution_count": 61,
   "id": "13943f2b",
   "metadata": {},
   "outputs": [
    {
     "data": {
      "text/plain": [
       "Text(0.5, 0, 'Count')"
      ]
     },
     "execution_count": 61,
     "metadata": {},
     "output_type": "execute_result"
    },
    {
     "data": {
      "image/png": "[encoded data removed]",
      "text/plain": [
       "<Figure size 640x480 with 1 Axes>"
      ]
     },
     "metadata": {},
     "output_type": "display_data"
    }
   ],
   "source": [
    "plotdata = pd.DataFrame({\n",
    "    \"1 Item \":[1544, 1396, 797, 541, 360, 350, 289, 150, 144, 128],\n",
    "    \"2 Items\":[3052, 2673, 1610, 988, 748, 707, 608, 311, 299, 291],\n",
    "    \"3 Items\":[3044, 2789, 1657, 1008, 805, 738, 600, 293, 286, 266],\n",
    "    \"4 Items\":[3148, 2804, 1714, 1022, 754, 703, 558, 315, 301, 275],\n",
    "    \"5 Items\":[3011, 2683, 1626, 1063, 730, 725, 574, 294, 271, 256],\n",
    "    \"6 Items\":[3133, 2776, 1635, 977, 775, 766, 568, 323, 284, 282],\n",
    "    \"7 Items\":[3097, 2750, 1634, 1030, 705, 699, 609, 287, 284, 281],\n",
    "    \"8 Items\":[1524, 1413, 786, 522, 410, 360, 321, 155, 150, 147],\n",
    "    },\n",
    "    index=[\"$0-$300\",\n",
    "           \"$301-$600\",\n",
    "           \"$601-$900\",\n",
    "           \"$901-$1200\",\n",
    "           \"$1201-$1500\",\n",
    "           \"$1501-$1800\",\n",
    "           \"$1801-$2100\",\n",
    "           \"$2101-$2400\",\n",
    "           \"$2401-$2700\",\n",
    "           \"$2701-$3000\"\n",
    "    ]\n",
    ")\n",
    "\n",
    "plotdata.plot(kind=\"barh\", stacked=True)\n",
    "plt.title(\"Transaction Range Count by Number of Items\")\n",
    "plt.ylabel(\"Transaction Range ($)\")\n",
    "plt.xlabel(\"Count\")"
   ]
  },
  {
   "cell_type": "code",
   "execution_count": 112,
   "id": "b4a61962",
   "metadata": {},
   "outputs": [
    {
     "data": {
      "text/plain": [
       "in-store  age\n",
       "0         85      185\n",
       "          18      223\n",
       "          73      315\n",
       "          79      320\n",
       "          76      327\n",
       "                 ... \n",
       "1         44      997\n",
       "          47      998\n",
       "          25      999\n",
       "          53     1018\n",
       "          28     1033\n",
       "Name: age, Length: 124, dtype: int64"
      ]
     },
     "execution_count": 112,
     "metadata": {},
     "output_type": "execute_result"
    }
   ],
   "source": [
    "# work on customer age X purchase type --- show percentages -- multi bar graph\n",
    "\n",
    "data[\"age\"].groupby(data[\"in-store\"]).value_counts(ascending=True)\n"
   ]
  },
  {
   "cell_type": "code",
   "execution_count": 134,
   "id": "99c4f353",
   "metadata": {},
   "outputs": [
    {
     "name": "stdout",
     "output_type": "stream",
     "text": [
      "in-store       \n",
      "0         31-60   43.59\n",
      "          18-30   35.99\n",
      "          61-90   20.42\n",
      "Name: age_groups, dtype: float64\n",
      "\n",
      "\n",
      "in-store       \n",
      "1         18-30   46.24\n",
      "          31-60   42.44\n",
      "          61-90   11.32\n",
      "Name: age_groups, dtype: float64\n"
     ]
    }
   ],
   "source": [
    "age_online = data[data[\"in-store\"].eq(0) & data[\"in-store\"].lt(1)] \n",
    "print(age_online[\"age_groups\"].groupby(data[\"in-store\"]).value_counts(normalize=True) * 100)\n",
    "print(\"\\n\")\n",
    "age_instore = data[data[\"in-store\"].eq(1) & data[\"in-store\"].lt(2)] \n",
    "print(age_instore[\"age_groups\"].groupby(data[\"in-store\"]).value_counts(normalize=True) * 100)"
   ]
  },
  {
   "cell_type": "markdown",
   "id": "2e3473e0",
   "metadata": {},
   "source": [
    "## Visualization - Age Groups Percentage by Purchase Type"
   ]
  },
  {
   "cell_type": "code",
   "execution_count": 22,
   "id": "0ad8d212",
   "metadata": {
    "scrolled": false
   },
   "outputs": [
    {
     "data": {
      "image/png": "[encoded data removed]",
      "text/plain": [
       "<Figure size 640x480 with 1 Axes>"
      ]
     },
     "metadata": {},
     "output_type": "display_data"
    }
   ],
   "source": [
    "plotdata = pd.DataFrame({\n",
    "    \"Online \":[35.99, 43.59, 20.42],\n",
    "    \"In-store\":[46.24, 42.44, 11.32],\n",
    "    },\n",
    "    index=[\"18-30\",\n",
    "           \"31-60\",\n",
    "           \"61-90\"]\n",
    ")\n",
    "\n",
    "ax = plotdata.plot(kind=\"bar\", stacked=False)\n",
    "plt.title(\"Age Groups Percentage by Purchase Type\")\n",
    "plt.ylabel(\"Percent (%)\")\n",
    "plt.xlabel(\"Age Groups\")\n",
    "plt.xticks(rotation=360)\n",
    "\n",
    "for container in ax.containers:\n",
    "    ax.bar_label(container)"
   ]
  },
  {
   "cell_type": "markdown",
   "id": "375f5eb8",
   "metadata": {},
   "source": [
    "## More Visualizations"
   ]
  },
  {
   "cell_type": "code",
   "execution_count": 63,
   "id": "ef7ff7bd",
   "metadata": {},
   "outputs": [],
   "source": [
    "# no discernible difference between amount of purchases made, given type\n",
    "\n",
    "\n",
    "plt.hist(data[\"in-store\"], bins=4)\n",
    "plt.title(\"Histogram by Purchase Type (Modified Dataframe)\")\n",
    "plt.xlabel(\"0 = Online Purchase  1 = In-store Purchase\")\n",
    "plt.ylabel(\"Count\")\n",
    "plt.show()"
   ]
  },
  {
   "cell_type": "code",
   "execution_count": 64,
   "id": "b87429f4",
   "metadata": {},
   "outputs": [],
   "source": [
    "# most purchases were made by people between the ages of 30 and about 55\n",
    "\n",
    "# further detail may be shown by increasing the number of bins\n",
    "\n",
    "\n",
    "plt.hist(data[\"age\"], bins=7)\n",
    "plt.title(\"Histogram by Age (Modified Dataframe)\")\n",
    "plt.xlabel(\"Age\")\n",
    "plt.ylabel(\"Count\")\n",
    "plt.show()"
   ]
  },
  {
   "cell_type": "code",
   "execution_count": 65,
   "id": "22f7d225",
   "metadata": {},
   "outputs": [],
   "source": [
    "# not too helpful a visualization, but it clearly shows that a majority of item amounts were between 2 and 7\n",
    "\n",
    "\n",
    "plt.hist(data[\"items\"], bins=10)\n",
    "plt.title(\"Histogram by Items (Modified Dataframe)\")\n",
    "plt.xlabel(\"Number of Items Purchased\")\n",
    "plt.ylabel(\"Count\")\n",
    "plt.show()"
   ]
  },
  {
   "cell_type": "code",
   "execution_count": 66,
   "id": "cb3a0906",
   "metadata": {},
   "outputs": [],
   "source": [
    "# large portion of purchases were valued between 0 and 500 dollars.\n",
    "\n",
    "\n",
    "plt.hist(data[\"amount\"], bins=5)\n",
    "plt.title(\"Histogram by Amount (Modified Dataframe)\")\n",
    "plt.xlabel(\"Amount of Money Spent\")\n",
    "plt.ylabel(\"Count\")\n",
    "plt.show()"
   ]
  },
  {
   "cell_type": "code",
   "execution_count": 67,
   "id": "cd9024e5",
   "metadata": {},
   "outputs": [],
   "source": [
    "# overall, this indicates that the West region is more represented in the Modified Dataframe than other regions\n",
    "\n",
    "\n",
    "plt.hist(data[\"region\"], bins=7)\n",
    "plt.title(\"Histogram by Region (Modified Dataframe)\")\n",
    "plt.xlabel(\"1 = North  2 = South  3 = East  4 = West\")\n",
    "plt.ylabel(\"Count\")\n",
    "plt.show()"
   ]
  },
  {
   "cell_type": "code",
   "execution_count": 68,
   "id": "a8319176",
   "metadata": {},
   "outputs": [],
   "source": [
    "# kept for note-taking purposes, but not necessary for EDA purposes\n",
    "\n",
    "# there appears to be some outliers\n",
    "\n",
    "# mid-range (30-55) populations tend to spend more while older (60+) populations tend to spend less\n",
    "\n",
    "\n",
    "# data_sample = data.sample(100)\n",
    "\n",
    "# x = data_sample[\"age\"]\n",
    "# y = data_sample[\"amount\"]\n",
    "\n",
    "\n",
    "# plt.scatter(x, y, marker=\"o\")\n",
    "# plt.title(\"Scatter plot of Age and Amount based on Randomized Sample of Data (Modified Dataframe)\")\n",
    "# plt.xlabel(\"Age\")\n",
    "# plt.ylabel(\"Amount\")\n",
    "# plt.show()"
   ]
  },
  {
   "cell_type": "code",
   "execution_count": 69,
   "id": "8da9d90e",
   "metadata": {
    "scrolled": false
   },
   "outputs": [],
   "source": [
    "# note based on Group Meeting - scatter plots *should not* include categorical data, such as what \"region\" represents \n",
    "\n",
    "# kept for note-taking purposes\n",
    "\n",
    "# data_sample = data.sample(100)\n",
    "\n",
    "# x = data_sample[\"region\"]\n",
    "# y = data_sample[\"amount\"]\n",
    "\n",
    "\n",
    "# plt.style.use(\"classic\")\n",
    "# plt.scatter(x, y, marker=\"o\")\n",
    "# plt.title(\"Scatter plot of Region and Amount based on Randomized Sample of Data (Modified Dataframe)\")\n",
    "# plt.xlabel(\"Region\")\n",
    "# plt.ylabel(\"Amount\")\n",
    "# plt.show()"
   ]
  },
  {
   "cell_type": "code",
   "execution_count": 70,
   "id": "a75ae02e",
   "metadata": {},
   "outputs": [],
   "source": [
    "# kept for note-taking purposes, but not necessary for EDA purposes\n",
    "\n",
    "# data_sample = data.sample(100)\n",
    "\n",
    "# x = data_sample[\"items\"]\n",
    "# y = data_sample[\"amount\"]\n",
    "\n",
    "\n",
    "# plt.scatter(x, y, marker=\"o\")\n",
    "# plt.title(\"Scatter plot of Items and Amount based on Randomized Sample of Data (Modified Dataframe)\")\n",
    "# plt.xlabel(\"Items\")\n",
    "# plt.ylabel(\"Amount\")\n",
    "# plt.show()"
   ]
  },
  {
   "cell_type": "code",
   "execution_count": 71,
   "id": "600081dd",
   "metadata": {},
   "outputs": [],
   "source": [
    "# see the describe() function for precise breakdowns of the lower, median and upper quartiles\n",
    "\n",
    "A = data[\"amount\"]\n",
    "plt.boxplot(A, 0, \"gD\")\n",
    "plt.title(\"Boxplot by Amount (Modified Dataframe)\")\n",
    "plt.xlabel(\"Figure\")\n",
    "plt.ylabel(\"Amount\")\n",
    "plt.show()"
   ]
  },
  {
   "cell_type": "code",
   "execution_count": 72,
   "id": "75b46361",
   "metadata": {},
   "outputs": [],
   "source": [
    "# see the describe() function for precise breakdowns of the lower, median and upper quartiles\n",
    "\n",
    "B = data[\"age\"]\n",
    "plt.boxplot(B, 0, \"gD\")\n",
    "plt.title(\"Histogram by Age (Modified Dataframe)\")\n",
    "plt.xlabel(\"Figure\")\n",
    "plt.ylabel(\"Age\")\n",
    "plt.show()"
   ]
  },
  {
   "cell_type": "code",
   "execution_count": 73,
   "id": "54b67e5f",
   "metadata": {},
   "outputs": [],
   "source": [
    "# see the describe() function for precise breakdowns of the lower, median and upper quartiles\n",
    "\n",
    "C = data[\"items\"]\n",
    "plt.boxplot(C, 0, \"gD\")\n",
    "plt.title(\"Histogram by Items (Modified Dataframe)\")\n",
    "plt.xlabel(\"Figure\")\n",
    "plt.ylabel(\"Items\")\n",
    "plt.show()"
   ]
  },
  {
   "cell_type": "markdown",
   "id": "40bab5c7",
   "metadata": {},
   "source": [
    "## Correlation and Covariance Matrixes"
   ]
  },
  {
   "cell_type": "code",
   "execution_count": 74,
   "id": "d852b2ad",
   "metadata": {},
   "outputs": [],
   "source": [
    "# correlation graph for the Modified Dataframe\n",
    "\n",
    "# variables that have weak correlations with all other variables: \"in-store\" + \"age\" + \"items\"\n",
    "\n",
    "# the \"amount\" variable appears moderately correlated with the \"region\" variable (0.40)\n",
    "\n",
    "# for this reason, the \"amount\" versus \"region\" correlation could be a potential feature for Model Development\n",
    "\n",
    "corr_mat = data.corr()\n",
    "\n",
    "corr_mat"
   ]
  },
  {
   "cell_type": "code",
   "execution_count": 75,
   "id": "e9f57532",
   "metadata": {
    "scrolled": true
   },
   "outputs": [],
   "source": [
    "# covariance graph for the Modified Dataframe\n",
    "\n",
    "# the \"age\" and \"amount\" variables have a strong negative covariance (-3196.78)\n",
    "# this means that as one variable increases, the other variable strongly decreases\n",
    "\n",
    "# the \"items\" and \"amount\" variables have a moderate covariance (0.57)\n",
    "# this means that as one variable increases, the other variable moderately increases\n",
    "\n",
    "# the \"amount\" and \"region\" variables have a strong covariance (327.87)\n",
    "# this means that as one variable increases, the other variable strongly increases\n",
    "\n",
    "# the \"amount\" and \"region\" covariance value would make for a good feature for Model Development\n",
    "# this is because those two variables are what we are trying to understand more about\n",
    "\n",
    "# it may also be worth considering as a feature the \"age\" and \"amount\" covariance value\n",
    "# this is because strong negative relationships help us to understand which variables \"work against\" each other\n",
    "\n",
    "cov_mat = data.cov()\n",
    "\n",
    "cov_mat"
   ]
  },
  {
   "cell_type": "code",
   "execution_count": 76,
   "id": "530b13ef",
   "metadata": {},
   "outputs": [],
   "source": [
    "# displays the regions's respective counts for the smallest \"amount\" values from the Modified Dataframe based on 10000 elements\n",
    "\n",
    "# clearly indicates that the South region is over-represented for low \"amount\" values\n",
    "\n",
    "# data.nsmallest(10000, \"amount\")[\"region\"].value_counts()"
   ]
  },
  {
   "cell_type": "code",
   "execution_count": 77,
   "id": "be726b3d",
   "metadata": {},
   "outputs": [],
   "source": [
    "# displays the regions's respective counts for the largest \"amount\" values from the Modified Dataframe based on 10000 elements\n",
    "\n",
    "# clearly indicates that the West region is over-representated for high \"amount\" values\n",
    "\n",
    "# data.nlargest(10000, \"amount\")[\"region\"].value_counts()"
   ]
  },
  {
   "cell_type": "code",
   "execution_count": 78,
   "id": "c34874a0",
   "metadata": {
    "scrolled": true
   },
   "outputs": [],
   "source": [
    "# displays the region's respective counts for the smallest \"item\" values from the Modified Dataframe based on 10000 elements\n",
    "\n",
    "# data.nsmallest(10000, \"items\")[\"region\"].value_counts()"
   ]
  },
  {
   "cell_type": "code",
   "execution_count": 79,
   "id": "18dc6ed4",
   "metadata": {
    "scrolled": false
   },
   "outputs": [],
   "source": [
    "# displays the region's respective counts for the largest \"item\" values from the Modified Dataframe based on 10000 elements\n",
    "\n",
    "# data.nlargest(10000, \"items\")[\"region\"].value_counts()"
   ]
  },
  {
   "cell_type": "markdown",
   "id": "87ff2c22",
   "metadata": {},
   "source": [
    "## EDA aggregation (grouping the \"amount\" data by \"region\" and then applying the sum() function) --> fundamental answer to the first question (which region spends the most/least)"
   ]
  },
  {
   "cell_type": "code",
   "execution_count": 80,
   "id": "63a30291",
   "metadata": {},
   "outputs": [],
   "source": [
    "# this groups the \"amount\" column values by their respective regions and \n",
    "# then displays the sum of each region's \"amount\" columns.\n",
    "\n",
    "# It is important to understand that there is more data in the West region than any other region.\n",
    "\n",
    "# Because there is a non-equal amount of entries per region, \n",
    "\n",
    "# This clearly shows that the West region is the most profitable region and the South region is the least profitable.\n",
    "\n",
    "pd.options.display.float_format = '{:.2f}'.format\n",
    "\n",
    "# the above code reformats how the float data is displayed. It basically converts the float values from scientific notation \n",
    "# into standard decimal form, including two decimal places\n",
    "\n",
    "summed_data = data[[\"amount\", \"region\"]].groupby(\"region\").sum()\n",
    "\n",
    "\n",
    "# the code below \n",
    "\n",
    "first_print = \"Total Amount values per Region.\\n\"\n",
    "second_print = \"\\nWe clearly see that the West region was the most profitable while the South region was the least profitable.\"\n",
    "\n",
    "print(first_print, \"\\n\", summed_data, \"\\n\", second_print)"
   ]
  },
  {
   "cell_type": "code",
   "execution_count": null,
   "id": "5699a2a7",
   "metadata": {},
   "outputs": [],
   "source": []
  },
  {
   "cell_type": "markdown",
   "id": "88e5982b",
   "metadata": {},
   "source": [
    "## EDA on the (LQD) Lower Quartile Dataframe (sub-selection of the Modified Dataframe)"
   ]
  },
  {
   "cell_type": "code",
   "execution_count": 81,
   "id": "87ad846b",
   "metadata": {
    "scrolled": true
   },
   "outputs": [],
   "source": [
    "# this dataframe is generated by making a sub-selection from the Modified Dataframe\n",
    "# based on a conditional statement, which seeks to find data elements where\n",
    "# the amount values are less than or equal to the lower quartile (<= 25%)\n",
    "\n",
    "this is done so that I can analyze data points that correspond to the lower-bound values asssociated with the\n",
    "\"items\" and amount\" columns based on the \"region\" column \n",
    "\n",
    "lower_quartile = 285.12\n",
    "\n",
    "data_lower = data[[\"age\", \"items\", \"amount\", \"region\"]][data[\"amount\"] <= lower_quartile]\n",
    "data_lower.describe()"
   ]
  },
  {
   "cell_type": "code",
   "execution_count": 82,
   "id": "655a7fa5",
   "metadata": {},
   "outputs": [],
   "source": [
    "plt.hist(data_lower[\"age\"], bins=7)\n",
    "plt.title(\"Histogram by Age (Lower Quartile Dataframe)\")\n",
    "plt.xlabel(\"Age\")\n",
    "plt.ylabel(\"Count\")\n",
    "plt.show()"
   ]
  },
  {
   "cell_type": "code",
   "execution_count": 83,
   "id": "9cc4ae0c",
   "metadata": {},
   "outputs": [],
   "source": [
    "plt.hist(data_lower[\"amount\"], bins=7)\n",
    "plt.title(\"Histogram by Amount (Lower Quartile Dataframe)\")\n",
    "plt.xlabel(\"Amount\")\n",
    "plt.ylabel(\"Count\")\n",
    "plt.show()"
   ]
  },
  {
   "cell_type": "code",
   "execution_count": 84,
   "id": "5c923126",
   "metadata": {},
   "outputs": [],
   "source": [
    "plt.hist(data_lower[\"items\"], bins=7)\n",
    "plt.title(\"Histogram by Items (Lower Quartile Dataframe)\")\n",
    "plt.xlabel(\"Number of Items Purchased\")\n",
    "plt.ylabel(\"Count\")\n",
    "plt.show()"
   ]
  },
  {
   "cell_type": "code",
   "execution_count": 85,
   "id": "b36c8c2c",
   "metadata": {
    "scrolled": false
   },
   "outputs": [],
   "source": [
    "# clearly shows that purchase amounts falling at or below the Lower Quartile are coming mostly from the South region\n",
    "\n",
    "plt.hist(data_lower[\"region\"], bins=7)\n",
    "plt.title(\"Histogram by Region (Lower Quartile Dataframe)\")\n",
    "plt.xlabel(\"1 = North  2 = South  3 = East  4 = West\")\n",
    "plt.ylabel(\"Count\")\n",
    "plt.show()"
   ]
  },
  {
   "cell_type": "code",
   "execution_count": 86,
   "id": "42bf941f",
   "metadata": {
    "scrolled": true
   },
   "outputs": [],
   "source": [
    "# note based on Group Meeting - scatter plots *should not* include categorical data, such as what \"region\" represents \n",
    "\n",
    "# kept for note-taking purposes, but not necessary for EDA purposes\n",
    "\n",
    "# data_lower_sample = data_lower.sample(100)\n",
    "\n",
    "# x_lower = data_lower_sample[\"region\"]\n",
    "# y_lower = data_lower_sample[\"amount\"]\n",
    "\n",
    "\n",
    "# plt.scatter(x_lower, y_lower, marker=\"o\")\n",
    "# plt.title(\"Scatterplot of Region and Amount based on Randomized Sample of Data (Lower Quartile Dataframe)\")\n",
    "# plt.xlabel(\"1 = North  2 = South  3 = East  4 = West\")\n",
    "# plt.ylabel(\"Amount\")\n",
    "# plt.show()"
   ]
  },
  {
   "cell_type": "code",
   "execution_count": 87,
   "id": "3fd63e90",
   "metadata": {},
   "outputs": [],
   "source": [
    "# kept for note-taking purposes, but not necessary for EDA purposes\n",
    "\n",
    "# data_lower_sample = data_lower.sample(100)\n",
    "\n",
    "# x_lower = data_lower_sample[\"items\"]\n",
    "# y_lower = data_lower_sample[\"amount\"]\n",
    "\n",
    "\n",
    "# plt.scatter(x_lower, y_lower, marker=\"o\")\n",
    "# plt.title(\"Scatterplot of Items and Amount based on Randomized Sample of Data (Lower Quartile Dataframe)\")\n",
    "# plt.xlabel(\"Items\")\n",
    "# plt.ylabel(\"Amount\")\n",
    "# plt.show()"
   ]
  },
  {
   "cell_type": "code",
   "execution_count": 88,
   "id": "6b49e1fd",
   "metadata": {},
   "outputs": [],
   "source": [
    "A_lower = data_lower[\"amount\"]\n",
    "plt.boxplot(A_lower, 0, \"gD\")\n",
    "plt.title(\"Boxplot by Amount (Lower Quartile Dataframe)\")\n",
    "plt.xlabel(\"Figure\")\n",
    "plt.ylabel(\"Amount\")\n",
    "plt.show()"
   ]
  },
  {
   "cell_type": "code",
   "execution_count": 89,
   "id": "474ac543",
   "metadata": {},
   "outputs": [],
   "source": [
    "B_lower = data_lower[\"age\"]\n",
    "plt.boxplot(B_lower, 0, \"gD\")\n",
    "plt.title(\"Boxplot by Age (Lower Quartile Dataframe)\")\n",
    "plt.xlabel(\"Figure\")\n",
    "plt.ylabel(\"Age\")\n",
    "plt.show()"
   ]
  },
  {
   "cell_type": "code",
   "execution_count": 90,
   "id": "6fd748d9",
   "metadata": {},
   "outputs": [],
   "source": [
    "C_lower = data_lower[\"items\"]\n",
    "plt.boxplot(C_lower, 0, \"gD\")\n",
    "plt.title(\"Boxplot by Items (Lower Quartile Dataframe)\")\n",
    "plt.xlabel(\"Figure\")\n",
    "plt.ylabel(\"Items\")\n",
    "plt.show()"
   ]
  },
  {
   "cell_type": "code",
   "execution_count": 91,
   "id": "391c62e0",
   "metadata": {
    "scrolled": true
   },
   "outputs": [],
   "source": [
    "# correlation graph associated with the Lower Quartile Dataframe (LQD)\n",
    "\n",
    "data_lower.corr()"
   ]
  },
  {
   "cell_type": "code",
   "execution_count": 92,
   "id": "a2520778",
   "metadata": {},
   "outputs": [],
   "source": [
    "# covariance graph associated with the Upper Quartile Dataframe (UQD)\n",
    "\n",
    "data_lower.cov()"
   ]
  },
  {
   "cell_type": "code",
   "execution_count": 93,
   "id": "bad775f7",
   "metadata": {
    "scrolled": true
   },
   "outputs": [],
   "source": [
    "# kept for note-taking purposes, but not necessary for EDA purposes\n",
    "\n",
    "# i just want to remember how to carry out this kind of function \n",
    "\n",
    "# data_lower.corrwith(data[\"amount\"])"
   ]
  },
  {
   "cell_type": "code",
   "execution_count": 94,
   "id": "7fe47775",
   "metadata": {
    "scrolled": true
   },
   "outputs": [],
   "source": [
    "# kept for note-taking purposes, but not necessary for EDA purposes\n",
    "# i just want to remember how to carry out this kind of function\n",
    "\n",
    "# data_lower[\"region\"].cov(data_lower[\"amount\"])"
   ]
  },
  {
   "cell_type": "code",
   "execution_count": null,
   "id": "bb167585",
   "metadata": {},
   "outputs": [],
   "source": []
  },
  {
   "cell_type": "markdown",
   "id": "ed8a6e89",
   "metadata": {},
   "source": [
    "## EDA on the (UQD) Upper Quartile Dataframe (sub-selection of the Modified Dataframe)"
   ]
  },
  {
   "cell_type": "code",
   "execution_count": 95,
   "id": "f41bef46",
   "metadata": {},
   "outputs": [],
   "source": [
    "# this dataframe is generated by making a sub-selection from the Modified Dataframe\n",
    "# based on a conditional statement, which seeks to find data elements where\n",
    "# the amount values are greater than or equal to the upper quartile (>= 75%)\n",
    "\n",
    "# this is done so that I can analyze data points that correspond to the uppwer-bound values asssociated with the\n",
    "# \"items\" and amount\" columns based on the \"region\" column \n",
    "\n",
    "upper_quartile = 1223.40\n",
    "\n",
    "data_upper = data[[\"age\", \"items\", \"amount\", \"region\"]][data[\"amount\"] >= upper_quartile]\n",
    "data_upper.describe()\n"
   ]
  },
  {
   "cell_type": "code",
   "execution_count": 96,
   "id": "cdd3cb73",
   "metadata": {},
   "outputs": [],
   "source": [
    "plt.hist(data_upper[\"age\"], bins=7)\n",
    "plt.title(\"Histogram by Age (Upper Quartile Dataframe)\")\n",
    "plt.xlabel(\"Age\")\n",
    "plt.ylabel(\"Count\")\n",
    "plt.show()"
   ]
  },
  {
   "cell_type": "code",
   "execution_count": 97,
   "id": "a3cfa054",
   "metadata": {},
   "outputs": [],
   "source": [
    "plt.hist(data_upper[\"amount\"], bins=7)\n",
    "plt.title(\"Histogram by Amount (Upper Quartile Dataframe)\")\n",
    "plt.xlabel(\"Amount\")\n",
    "plt.ylabel(\"Count\")\n",
    "plt.show()"
   ]
  },
  {
   "cell_type": "code",
   "execution_count": 98,
   "id": "9681d4b8",
   "metadata": {},
   "outputs": [],
   "source": [
    "plt.hist(data_upper[\"items\"], bins=7)\n",
    "plt.title(\"Histogram by Items (Upper Quartile Dataframe)\")\n",
    "plt.xlabel(\"Items\")\n",
    "plt.ylabel(\"Count\")\n",
    "plt.show()"
   ]
  },
  {
   "cell_type": "code",
   "execution_count": 99,
   "id": "59b0272d",
   "metadata": {},
   "outputs": [],
   "source": [
    "# clearly shows that purchase amounts greater to or equal to the Upper Quartile are coming mostly from the West region\n",
    "\n",
    "plt.hist(data_upper[\"region\"], bins=7)\n",
    "plt.title(\"Histogram by Region (Upper Quartile Dataframe)\")\n",
    "plt.xlabel(\"1 = North  2 = South  3 = East  4 = West\")\n",
    "plt.ylabel(\"Count\")\n",
    "plt.show()"
   ]
  },
  {
   "cell_type": "code",
   "execution_count": 100,
   "id": "85e368bf",
   "metadata": {},
   "outputs": [],
   "source": [
    "# note based on Group Meeting - scatter plots *should not* include categorical data, such as what \"region\" represents \n",
    "\n",
    "# # kept for note-taking purposes, but not necessary for EDA purposes\n",
    "\n",
    "# data_upper_sample = data_upper.sample(100)\n",
    "\n",
    "# x_upper = data_upper_sample[\"region\"]\n",
    "# y_upper = data_upper_sample[\"amount\"]\n",
    "\n",
    "\n",
    "# plt.scatter(x_upper, y_upper, marker=\"o\")\n",
    "# plt.title(\"Scatterplot of Region and Amount based on Randomized Sample of Data (Upper Quartile Dataframe)\")\n",
    "# plt.xlabel(\"1 = North  2 = South  3 = East  4 = West\")\n",
    "# plt.ylabel(\"Amount\")\n",
    "# plt.show()"
   ]
  },
  {
   "cell_type": "code",
   "execution_count": 101,
   "id": "e8b3a62e",
   "metadata": {},
   "outputs": [],
   "source": [
    "# kept for note-taking purposes, but not necessary for EDA purposes\n",
    "\n",
    "# data_upper_sample = data_upper.sample(100)\n",
    "\n",
    "# x_upper = data_upper_sample[\"items\"]\n",
    "# y_upper = data_upper_sample[\"amount\"]\n",
    "\n",
    "\n",
    "# plt.scatter(x_upper, y_upper, marker=\"o\")\n",
    "# plt.title(\"Scatterplot of Items and Amount based on Randomized Sample of Data (Upper Quartile Dataframe)\")\n",
    "# plt.xlabel(\"Items\")\n",
    "# plt.ylabel(\"Amount\")\n",
    "# plt.show()"
   ]
  },
  {
   "cell_type": "code",
   "execution_count": 102,
   "id": "5a166e0c",
   "metadata": {},
   "outputs": [],
   "source": [
    "A_upper = data_upper[\"amount\"]\n",
    "plt.boxplot(A_upper, 0, \"gD\")\n",
    "plt.title(\"Boxplot by Amount (Upper Quartile Dataframe)\")\n",
    "plt.xlabel(\"Figure\")\n",
    "plt.ylabel(\"Amount\")\n",
    "plt.show()"
   ]
  },
  {
   "cell_type": "code",
   "execution_count": 103,
   "id": "535312b7",
   "metadata": {},
   "outputs": [],
   "source": [
    "B_upper = data_upper[\"age\"]\n",
    "plt.boxplot(B_upper, 0, \"gD\")\n",
    "plt.title(\"Boxplot by Age (Upper Quartile Dataframe)\")\n",
    "plt.xlabel(\"Figure\")\n",
    "plt.ylabel(\"Age\")\n",
    "plt.show()"
   ]
  },
  {
   "cell_type": "code",
   "execution_count": 104,
   "id": "f619ab97",
   "metadata": {},
   "outputs": [],
   "source": [
    "C_upper = data_upper[\"items\"]\n",
    "plt.boxplot(C_upper, 0, \"gD\")\n",
    "plt.title(\"Boxplot by Items (Upper Quartile Dataframe)\")\n",
    "plt.xlabel(\"Figure\")\n",
    "plt.ylabel(\"Items\")\n",
    "plt.show()"
   ]
  },
  {
   "cell_type": "code",
   "execution_count": 105,
   "id": "7e7c6c88",
   "metadata": {
    "scrolled": false
   },
   "outputs": [],
   "source": [
    "# correlation graph associated with the Upper Quartile Dataframe (UQD)\n",
    "\n",
    "data_upper.corr()"
   ]
  },
  {
   "cell_type": "code",
   "execution_count": 106,
   "id": "050231fd",
   "metadata": {
    "scrolled": true
   },
   "outputs": [],
   "source": [
    "# covariance graph associated with the Upper Quartile Dataframe (UQD)\n",
    "\n",
    "data_upper.cov()"
   ]
  },
  {
   "cell_type": "code",
   "execution_count": null,
   "id": "bf067a3b",
   "metadata": {},
   "outputs": [],
   "source": []
  },
  {
   "cell_type": "markdown",
   "id": "2ffbb172",
   "metadata": {},
   "source": [
    "# Preliminary observations about the data \n"
   ]
  },
  {
   "cell_type": "markdown",
   "id": "80a270e2",
   "metadata": {},
   "source": [
    "## About the Modified Dataframe"
   ]
  },
  {
   "cell_type": "markdown",
   "id": "2f24738d",
   "metadata": {},
   "source": [
    "##### A handful of insights can be drawn just from looking at the dataset when the describe() function is applied to it.\n",
    "\n",
    "##### That being said, some interesting observations I noticed were:\n",
    "\n",
    "##### 1. A majority (~85%) of purchases involved between 2 to 7 items.\n",
    "\n",
    "##### 2. A majority (~80%) of purchases occured within the West, South and East regions. The West region being the most as having ~32% of the share.\n",
    "\n",
    "##### 3. There's practically an even split between purchase type (in-store versus online), overall. NOTE: It's possible that there are particular age and amount tresholds which may be more associated with one purchase type over the other.\n",
    "\n",
    "##### 4. It appears that people who are of working age (between 32 and 53) are more featured as having purchases than those who are younger or are elderly (18 and over 75) who are less featured as having purchases. "
   ]
  },
  {
   "cell_type": "markdown",
   "id": "81d10e7b",
   "metadata": {},
   "source": [
    "## About the Lower Quartile Dataframe (similarities and differences with the Modified Dataframe)"
   ]
  },
  {
   "cell_type": "markdown",
   "id": "4da14cc9",
   "metadata": {},
   "source": [
    "##### 1. People between the ages of 30 to about 55 are highly represented\n",
    "\n",
    "##### 2. Most purchases are on the middle and upper ends of the LQD value. Relatively few instances of purchases below $50.\n",
    "\n",
    "##### 3. Almost equal amount of purchases are associated with between 2-item to 7-item purchases. However, 8-item purchases are occur most frequently.\n",
    "\n",
    "##### 4. The South region appears to be most represented for LQD purchases. \n",
    "\n",
    "##### 5.  The \"region\" data and the \"amount\" data for the LQD have a covariance of 5.98 and a correlation of 0.09\n"
   ]
  },
  {
   "cell_type": "markdown",
   "id": "47e6fa81",
   "metadata": {},
   "source": [
    "## About the Upper Quartile Dataframe (similarities and differences with the Modified Dataframe)"
   ]
  },
  {
   "cell_type": "markdown",
   "id": "70403ffd",
   "metadata": {},
   "source": [
    "##### 1. People between the ages of 30 to about 50 are highly represented, however those in the 20s and 40s brackets are effectively equal. Those in the age 60 bracket are represented much less.\n",
    "\n",
    "##### 2. Most purchases occur within the lower bounds of the UQD value. Afterwards, the upper and highest bounds of the UQ are represented about equally.\n",
    "\n",
    "##### 3. 1-item purchases are represented least. 2-item to 7-item purchases make up the most of total purchases and are represented about equally. 8-item purchases are most represented.\n",
    "\n",
    "##### 4. The West region appears to be most represented for UQD purchases. The East region slightly exceeds the North region. Apparently there is no representation in the UQD from the South region.\n",
    "\n",
    "##### 5. The \"region\" data and the \"amount\" data for the UQD have a covariance of 86.27 and a correlation of 0.17"
   ]
  },
  {
   "cell_type": "code",
   "execution_count": null,
   "id": "f4c8e2e9",
   "metadata": {},
   "outputs": [],
   "source": []
  }
 ],
 "metadata": {
  "kernelspec": {
   "display_name": "Python 3",
   "language": "python",
   "name": "python3"
  },
  "language_info": {
   "codemirror_mode": {
    "name": "ipython",
    "version": 3
   },
   "file_extension": ".py",
   "mimetype": "text/x-python",
   "name": "python",
   "nbconvert_exporter": "python",
   "pygments_lexer": "ipython3",
   "version": "3.9.7"
  }
 },
 "nbformat": 4,
 "nbformat_minor": 5
}
