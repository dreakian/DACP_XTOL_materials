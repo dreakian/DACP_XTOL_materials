{
 "cells": [
  {
   "cell_type": "code",
   "execution_count": 1,
   "id": "24cef14e",
   "metadata": {},
   "outputs": [],
   "source": [
    "import pandas as pd\n",
    "import matplotlib.pyplot as plt\n",
    "import seaborn as sns\n",
    "import numpy as np"
   ]
  },
  {
   "cell_type": "code",
   "execution_count": 2,
   "id": "5a30c3ac",
   "metadata": {},
   "outputs": [],
   "source": [
    "data = pd.read_csv(\"Demographic_Data.csv\")"
   ]
  },
  {
   "cell_type": "markdown",
   "id": "45983ec9",
   "metadata": {},
   "source": [
    "# * Task 1: Investigate Customer Buying Patterns *"
   ]
  },
  {
   "cell_type": "markdown",
   "id": "b2e8a3c2",
   "metadata": {},
   "source": [
    "# Section 3: Obtaining Data and Preprocessing Data"
   ]
  },
  {
   "cell_type": "code",
   "execution_count": 3,
   "id": "b48ddda5",
   "metadata": {
    "scrolled": false
   },
   "outputs": [
    {
     "name": "stdout",
     "output_type": "stream",
     "text": [
      "<class 'pandas.core.frame.DataFrame'>\n",
      "RangeIndex: 80000 entries, 0 to 79999\n",
      "Data columns (total 5 columns):\n",
      " #   Column    Non-Null Count  Dtype  \n",
      "---  ------    --------------  -----  \n",
      " 0   in-store  80000 non-null  int64  \n",
      " 1   age       80000 non-null  int64  \n",
      " 2   items     80000 non-null  int64  \n",
      " 3   amount    80000 non-null  float64\n",
      " 4   region    80000 non-null  int64  \n",
      "dtypes: float64(1), int64(4)\n",
      "memory usage: 3.1 MB\n"
     ]
    }
   ],
   "source": [
    "data.info()"
   ]
  },
  {
   "cell_type": "code",
   "execution_count": 4,
   "id": "07f0c726",
   "metadata": {
    "scrolled": true
   },
   "outputs": [
    {
     "data": {
      "text/html": [
       "<div>\n",
       "<style scoped>\n",
       "    .dataframe tbody tr th:only-of-type {\n",
       "        vertical-align: middle;\n",
       "    }\n",
       "\n",
       "    .dataframe tbody tr th {\n",
       "        vertical-align: top;\n",
       "    }\n",
       "\n",
       "    .dataframe thead th {\n",
       "        text-align: right;\n",
       "    }\n",
       "</style>\n",
       "<table border=\"1\" class=\"dataframe\">\n",
       "  <thead>\n",
       "    <tr style=\"text-align: right;\">\n",
       "      <th></th>\n",
       "      <th>in-store</th>\n",
       "      <th>age</th>\n",
       "      <th>items</th>\n",
       "      <th>amount</th>\n",
       "      <th>region</th>\n",
       "    </tr>\n",
       "  </thead>\n",
       "  <tbody>\n",
       "    <tr>\n",
       "      <th>count</th>\n",
       "      <td>80000.000000</td>\n",
       "      <td>80000.000000</td>\n",
       "      <td>80000.000000</td>\n",
       "      <td>80000.000000</td>\n",
       "      <td>80000.000000</td>\n",
       "    </tr>\n",
       "    <tr>\n",
       "      <th>mean</th>\n",
       "      <td>0.500000</td>\n",
       "      <td>45.757925</td>\n",
       "      <td>4.504975</td>\n",
       "      <td>835.919670</td>\n",
       "      <td>2.675000</td>\n",
       "    </tr>\n",
       "    <tr>\n",
       "      <th>std</th>\n",
       "      <td>0.500003</td>\n",
       "      <td>15.715679</td>\n",
       "      <td>2.061238</td>\n",
       "      <td>721.273736</td>\n",
       "      <td>1.126672</td>\n",
       "    </tr>\n",
       "    <tr>\n",
       "      <th>min</th>\n",
       "      <td>0.000000</td>\n",
       "      <td>18.000000</td>\n",
       "      <td>1.000000</td>\n",
       "      <td>5.004700</td>\n",
       "      <td>1.000000</td>\n",
       "    </tr>\n",
       "    <tr>\n",
       "      <th>25%</th>\n",
       "      <td>0.000000</td>\n",
       "      <td>33.000000</td>\n",
       "      <td>3.000000</td>\n",
       "      <td>285.140000</td>\n",
       "      <td>2.000000</td>\n",
       "    </tr>\n",
       "    <tr>\n",
       "      <th>50%</th>\n",
       "      <td>0.500000</td>\n",
       "      <td>45.000000</td>\n",
       "      <td>4.000000</td>\n",
       "      <td>582.315000</td>\n",
       "      <td>3.000000</td>\n",
       "    </tr>\n",
       "    <tr>\n",
       "      <th>75%</th>\n",
       "      <td>1.000000</td>\n",
       "      <td>56.000000</td>\n",
       "      <td>6.000000</td>\n",
       "      <td>1233.700000</td>\n",
       "      <td>4.000000</td>\n",
       "    </tr>\n",
       "    <tr>\n",
       "      <th>max</th>\n",
       "      <td>1.000000</td>\n",
       "      <td>85.000000</td>\n",
       "      <td>8.000000</td>\n",
       "      <td>3000.000000</td>\n",
       "      <td>4.000000</td>\n",
       "    </tr>\n",
       "  </tbody>\n",
       "</table>\n",
       "</div>"
      ],
      "text/plain": [
       "           in-store           age         items        amount        region\n",
       "count  80000.000000  80000.000000  80000.000000  80000.000000  80000.000000\n",
       "mean       0.500000     45.757925      4.504975    835.919670      2.675000\n",
       "std        0.500003     15.715679      2.061238    721.273736      1.126672\n",
       "min        0.000000     18.000000      1.000000      5.004700      1.000000\n",
       "25%        0.000000     33.000000      3.000000    285.140000      2.000000\n",
       "50%        0.500000     45.000000      4.000000    582.315000      3.000000\n",
       "75%        1.000000     56.000000      6.000000   1233.700000      4.000000\n",
       "max        1.000000     85.000000      8.000000   3000.000000      4.000000"
      ]
     },
     "execution_count": 4,
     "metadata": {},
     "output_type": "execute_result"
    }
   ],
   "source": [
    "data.describe()"
   ]
  },
  {
   "cell_type": "markdown",
   "id": "d1ed6a7b",
   "metadata": {},
   "source": [
    "# Original Dataframe (needs to be cleaned and modified)"
   ]
  },
  {
   "cell_type": "code",
   "execution_count": 5,
   "id": "51f2fb56",
   "metadata": {
    "scrolled": true
   },
   "outputs": [
    {
     "data": {
      "text/html": [
       "<div>\n",
       "<style scoped>\n",
       "    .dataframe tbody tr th:only-of-type {\n",
       "        vertical-align: middle;\n",
       "    }\n",
       "\n",
       "    .dataframe tbody tr th {\n",
       "        vertical-align: top;\n",
       "    }\n",
       "\n",
       "    .dataframe thead th {\n",
       "        text-align: right;\n",
       "    }\n",
       "</style>\n",
       "<table border=\"1\" class=\"dataframe\">\n",
       "  <thead>\n",
       "    <tr style=\"text-align: right;\">\n",
       "      <th></th>\n",
       "      <th>in-store</th>\n",
       "      <th>age</th>\n",
       "      <th>items</th>\n",
       "      <th>amount</th>\n",
       "      <th>region</th>\n",
       "    </tr>\n",
       "  </thead>\n",
       "  <tbody>\n",
       "    <tr>\n",
       "      <th>0</th>\n",
       "      <td>0</td>\n",
       "      <td>37</td>\n",
       "      <td>4</td>\n",
       "      <td>281.03</td>\n",
       "      <td>2</td>\n",
       "    </tr>\n",
       "    <tr>\n",
       "      <th>1</th>\n",
       "      <td>0</td>\n",
       "      <td>35</td>\n",
       "      <td>2</td>\n",
       "      <td>219.51</td>\n",
       "      <td>2</td>\n",
       "    </tr>\n",
       "    <tr>\n",
       "      <th>2</th>\n",
       "      <td>1</td>\n",
       "      <td>45</td>\n",
       "      <td>3</td>\n",
       "      <td>1525.70</td>\n",
       "      <td>4</td>\n",
       "    </tr>\n",
       "    <tr>\n",
       "      <th>3</th>\n",
       "      <td>1</td>\n",
       "      <td>46</td>\n",
       "      <td>3</td>\n",
       "      <td>715.25</td>\n",
       "      <td>3</td>\n",
       "    </tr>\n",
       "    <tr>\n",
       "      <th>4</th>\n",
       "      <td>1</td>\n",
       "      <td>33</td>\n",
       "      <td>4</td>\n",
       "      <td>1937.50</td>\n",
       "      <td>1</td>\n",
       "    </tr>\n",
       "  </tbody>\n",
       "</table>\n",
       "</div>"
      ],
      "text/plain": [
       "   in-store  age  items   amount  region\n",
       "0         0   37      4   281.03       2\n",
       "1         0   35      2   219.51       2\n",
       "2         1   45      3  1525.70       4\n",
       "3         1   46      3   715.25       3\n",
       "4         1   33      4  1937.50       1"
      ]
     },
     "execution_count": 5,
     "metadata": {},
     "output_type": "execute_result"
    }
   ],
   "source": [
    "data.head()"
   ]
  },
  {
   "cell_type": "code",
   "execution_count": 6,
   "id": "0c234efd",
   "metadata": {},
   "outputs": [
    {
     "data": {
      "text/plain": [
       "False    79979\n",
       "True        21\n",
       "dtype: int64"
      ]
     },
     "execution_count": 6,
     "metadata": {},
     "output_type": "execute_result"
    }
   ],
   "source": [
    "# need to remove duplicate values as they can cause error in analysis\n",
    "\n",
    "data.duplicated().value_counts()"
   ]
  },
  {
   "cell_type": "code",
   "execution_count": 7,
   "id": "e27a35c5",
   "metadata": {},
   "outputs": [],
   "source": [
    "# removes duplicate values from the dataframe, leading a reduction in the RangeIndex range\n",
    "\n",
    "# having duplicate values may result in errors in math being done on the data\n",
    "\n",
    "data = data.drop_duplicates()"
   ]
  },
  {
   "cell_type": "code",
   "execution_count": 8,
   "id": "76f8fe8c",
   "metadata": {},
   "outputs": [
    {
     "data": {
      "text/plain": [
       "in-store    0\n",
       "age         0\n",
       "items       0\n",
       "amount      0\n",
       "region      0\n",
       "dtype: int64"
      ]
     },
     "execution_count": 8,
     "metadata": {},
     "output_type": "execute_result"
    }
   ],
   "source": [
    "# checks if there are any missing values in the dataset\n",
    "\n",
    "# in this case, there are no missing values\n",
    "\n",
    "data.isnull().sum()"
   ]
  },
  {
   "cell_type": "code",
   "execution_count": 9,
   "id": "ea657907",
   "metadata": {},
   "outputs": [
    {
     "data": {
      "text/plain": [
       "in-store      int64\n",
       "age           int64\n",
       "items         int64\n",
       "amount      float64\n",
       "region        int64\n",
       "dtype: object"
      ]
     },
     "execution_count": 9,
     "metadata": {},
     "output_type": "execute_result"
    }
   ],
   "source": [
    "# even though \"region\" and \"in-store\" are technically categorical variables, they need to retain their integer datatype label\n",
    "# so that Machine Learning functions can be applied onto them (particularly relevant for the \"region\" column)\n",
    " \n",
    "data.dtypes"
   ]
  },
  {
   "cell_type": "code",
   "execution_count": 10,
   "id": "794a130d",
   "metadata": {
    "scrolled": true
   },
   "outputs": [],
   "source": [
    "# EDIT: this was original code; this code is no longer being used but will remain in the notebook for note-taking purposes\n",
    "\n",
    "# converts the \"In-store\" and \"Region\" columns into dummy variables with a str data type\n",
    "\n",
    "# renames the newly formatted columns based on their particular values\n",
    "\n",
    "# new_data = pd.get_dummies(data, columns=[\"in-store\",\"region\"], dtype=str)\n",
    "# new_data.rename({\"region_1\":\"North\"}, axis=1, inplace=True)\n",
    "# new_data.rename({\"region_2\":\"South\"}, axis=1, inplace=True)\n",
    "# new_data.rename({\"region_3\":\"East\"}, axis=1, inplace=True)\n",
    "# new_data.rename({\"region_4\":\"West\"}, axis=1, inplace=True)\n",
    "# new_data.rename({\"in-store_0\":\"Online Purchases\"}, axis=1, inplace=True)\n",
    "# new_data.rename({\"in-store_1\": \"In-store Purchases\"}, axis=1, inplace=True)\n",
    "\n",
    "# displays correctly converted and formatted data\n",
    "\n",
    "# new_data.head() "
   ]
  },
  {
   "cell_type": "code",
   "execution_count": 11,
   "id": "b73b8542",
   "metadata": {},
   "outputs": [],
   "source": [
    "# this cell won't be run because, based on mentor feedback, the \"in-store\" and \"region\" variables need to retain their integer\n",
    "# datatpye label so that Machine Learning functions (such as Decision Trees) can be applied to them\n",
    "\n",
    "# code reflecting mentor feedback -- using Label Encoding -- this method simplifies the data unlike using both the get_dummies and rename functions\n",
    "\n",
    "# this changes the data type of the \"in-store\" and \"region\" columns to be categorical instead of numerical\n",
    "\n",
    "# this means that math cannot be done on these columns\n",
    "\n",
    "#data[[\"in-store\", \"region\"]] = data[[\"in-store\", \"region\"]].astype(\"category\")"
   ]
  },
  {
   "cell_type": "code",
   "execution_count": 12,
   "id": "0348171d",
   "metadata": {
    "scrolled": true
   },
   "outputs": [
    {
     "name": "stdout",
     "output_type": "stream",
     "text": [
      "<class 'pandas.core.frame.DataFrame'>\n",
      "Int64Index: 79979 entries, 0 to 79999\n",
      "Data columns (total 5 columns):\n",
      " #   Column    Non-Null Count  Dtype  \n",
      "---  ------    --------------  -----  \n",
      " 0   in-store  79979 non-null  int64  \n",
      " 1   age       79979 non-null  int64  \n",
      " 2   items     79979 non-null  int64  \n",
      " 3   amount    79979 non-null  float64\n",
      " 4   region    79979 non-null  int64  \n",
      "dtypes: float64(1), int64(4)\n",
      "memory usage: 3.7 MB\n"
     ]
    }
   ],
   "source": [
    "data.info()"
   ]
  },
  {
   "cell_type": "markdown",
   "id": "6a1fe131",
   "metadata": {},
   "source": [
    "# Modified Dataframe (duplicate values removed + no null values)"
   ]
  },
  {
   "cell_type": "code",
   "execution_count": 13,
   "id": "47decef5",
   "metadata": {},
   "outputs": [
    {
     "data": {
      "text/plain": [
       "False    79979\n",
       "dtype: int64"
      ]
     },
     "execution_count": 13,
     "metadata": {},
     "output_type": "execute_result"
    }
   ],
   "source": [
    "# confirms that there are no duplicate values in the Modified Dataframe\n",
    "\n",
    "data.duplicated().value_counts()"
   ]
  },
  {
   "cell_type": "code",
   "execution_count": 14,
   "id": "267d5ee6",
   "metadata": {
    "scrolled": true
   },
   "outputs": [
    {
     "data": {
      "text/plain": [
       "in-store    0\n",
       "age         0\n",
       "items       0\n",
       "amount      0\n",
       "region      0\n",
       "dtype: int64"
      ]
     },
     "execution_count": 14,
     "metadata": {},
     "output_type": "execute_result"
    }
   ],
   "source": [
    "# confirms that there are no null values in the Modified Dataframe\n",
    "\n",
    "data.isnull().sum()"
   ]
  },
  {
   "cell_type": "markdown",
   "id": "e3b5e297",
   "metadata": {},
   "source": [
    "# Section 4: Explore the Data: Exploratory Data Analysis (EDA)\n"
   ]
  },
  {
   "cell_type": "code",
   "execution_count": 15,
   "id": "7c0e5821",
   "metadata": {},
   "outputs": [
    {
     "data": {
      "text/plain": [
       "Index(['in-store', 'age', 'items', 'amount', 'region'], dtype='object')"
      ]
     },
     "execution_count": 15,
     "metadata": {},
     "output_type": "execute_result"
    }
   ],
   "source": [
    "header = data.dtypes.index\n",
    "header"
   ]
  },
  {
   "cell_type": "markdown",
   "id": "cf6f1f38",
   "metadata": {},
   "source": [
    "## EDA on the Modified Dataframe"
   ]
  },
  {
   "cell_type": "code",
   "execution_count": 16,
   "id": "f28ad899",
   "metadata": {
    "scrolled": true
   },
   "outputs": [
    {
     "data": {
      "text/plain": [
       "1    39990\n",
       "0    39989\n",
       "Name: in-store, dtype: int64"
      ]
     },
     "execution_count": 16,
     "metadata": {},
     "output_type": "execute_result"
    }
   ],
   "source": [
    "# basically equal number of people who purchased items \"in-store\" versus \"online\"\n",
    "\n",
    "data[\"in-store\"].value_counts()"
   ]
  },
  {
   "cell_type": "code",
   "execution_count": 17,
   "id": "74e92169",
   "metadata": {},
   "outputs": [
    {
     "data": {
      "text/plain": [
       "46.0"
      ]
     },
     "execution_count": 17,
     "metadata": {},
     "output_type": "execute_result"
    }
   ],
   "source": [
    "#average age of person in the dataset\n",
    "\n",
    "#confirmed by applying the describe() function on the data\n",
    "\n",
    "data[\"age\"].mean().round()"
   ]
  },
  {
   "cell_type": "code",
   "execution_count": 18,
   "id": "64df01f5",
   "metadata": {
    "scrolled": true
   },
   "outputs": [
    {
     "data": {
      "text/plain": [
       "53    1829\n",
       "32    1788\n",
       "42    1784\n",
       "36    1784\n",
       "34    1783\n",
       "46    1775\n",
       "54    1773\n",
       "39    1771\n",
       "50    1769\n",
       "47    1768\n",
       "Name: age, dtype: int64"
      ]
     },
     "execution_count": 18,
     "metadata": {},
     "output_type": "execute_result"
    }
   ],
   "source": [
    "# ages 32 to 54 are the top 10 most occuring ages \n",
    "\n",
    "# may indicate that working-aged individuals purchased more items generally\n",
    "\n",
    "\n",
    "data[\"age\"].value_counts().head(10)"
   ]
  },
  {
   "cell_type": "code",
   "execution_count": 19,
   "id": "435c6761",
   "metadata": {},
   "outputs": [
    {
     "data": {
      "text/plain": [
       "84    373\n",
       "81    371\n",
       "78    369\n",
       "77    363\n",
       "80    344\n",
       "75    334\n",
       "76    327\n",
       "79    320\n",
       "18    223\n",
       "85    185\n",
       "Name: age, dtype: int64"
      ]
     },
     "execution_count": 19,
     "metadata": {},
     "output_type": "execute_result"
    }
   ],
   "source": [
    "# ages 18 and 75 to 85 are the bottom 10 least occuring ages \n",
    "\n",
    "# may indicate that working-aged individuals purchased more items generally\n",
    "\n",
    "data[\"age\"].value_counts().tail(10)"
   ]
  },
  {
   "cell_type": "code",
   "execution_count": 20,
   "id": "befea3b8",
   "metadata": {
    "scrolled": true
   },
   "outputs": [
    {
     "data": {
      "text/plain": [
       "4    11594\n",
       "6    11519\n",
       "3    11486\n",
       "7    11376\n",
       "2    11284\n",
       "5    11233\n",
       "8     5788\n",
       "1     5699\n",
       "Name: items, dtype: int64"
      ]
     },
     "execution_count": 20,
     "metadata": {},
     "output_type": "execute_result"
    }
   ],
   "source": [
    "# may indicate that most purchases involved between 2 to 7 items\n",
    "\n",
    "# this is basically confirmed when the describe() function is applied to the data\n",
    "\n",
    "# 68492 total items refer to purchase amounts between 2 to 7\n",
    "\n",
    "# 11487 total items refer to purchase amounts of 1 and 8\n",
    "\n",
    "# 68492 + 11487 = 79979 (number of elements of corrected dataset)\n",
    "\n",
    "data[\"items\"].value_counts()"
   ]
  },
  {
   "cell_type": "code",
   "execution_count": 21,
   "id": "5fd12aa7",
   "metadata": {},
   "outputs": [
    {
     "data": {
      "text/plain": [
       "4    14.5\n",
       "6    14.4\n",
       "3    14.4\n",
       "7    14.2\n",
       "2    14.1\n",
       "5    14.0\n",
       "8     7.2\n",
       "1     7.1\n",
       "Name: items, dtype: float64"
      ]
     },
     "execution_count": 21,
     "metadata": {},
     "output_type": "execute_result"
    }
   ],
   "source": [
    "# about 85% of purchases involved item amounts between 2 and 7\n",
    "# the remaining 15% of purchases involved item amounts of 1 or 8\n",
    "\n",
    "data[\"items\"].value_counts(normalize=True).round(3) * 100\n",
    "\n"
   ]
  },
  {
   "cell_type": "code",
   "execution_count": 22,
   "id": "f4561d1f",
   "metadata": {},
   "outputs": [
    {
     "data": {
      "text/plain": [
       "4    25988\n",
       "2    19994\n",
       "3    18000\n",
       "1    15997\n",
       "Name: region, dtype: int64"
      ]
     },
     "execution_count": 22,
     "metadata": {},
     "output_type": "execute_result"
    }
   ],
   "source": [
    "# nearly 26k people are from the West region\n",
    "# nearly 20k people are from the South region\n",
    "# 18k people are from the East region\n",
    "# nearly 16k people are from the North region\n",
    "\n",
    "data[\"region\"].value_counts()"
   ]
  },
  {
   "cell_type": "code",
   "execution_count": 23,
   "id": "424d0b7d",
   "metadata": {
    "scrolled": false
   },
   "outputs": [
    {
     "data": {
      "text/plain": [
       "4    32.0\n",
       "2    25.0\n",
       "3    23.0\n",
       "1    20.0\n",
       "Name: region, dtype: float64"
      ]
     },
     "execution_count": 23,
     "metadata": {},
     "output_type": "execute_result"
    }
   ],
   "source": [
    "# nearly 1/3 of purchases came from the West region\n",
    "\n",
    "# nearly 1/2 of purchases came from the South and East regions when combined\n",
    "\n",
    "data[\"region\"].value_counts(normalize=True).round(2) * 100"
   ]
  },
  {
   "cell_type": "code",
   "execution_count": 24,
   "id": "cb3af717",
   "metadata": {},
   "outputs": [
    {
     "data": {
      "text/plain": [
       "79979"
      ]
     },
     "execution_count": 24,
     "metadata": {},
     "output_type": "execute_result"
    }
   ],
   "source": [
    "records = len(data)\n",
    "records"
   ]
  },
  {
   "cell_type": "code",
   "execution_count": 25,
   "id": "75effbb8",
   "metadata": {},
   "outputs": [
    {
     "data": {
      "text/plain": [
       "2    100\n",
       "Name: region, dtype: int64"
      ]
     },
     "execution_count": 25,
     "metadata": {},
     "output_type": "execute_result"
    }
   ],
   "source": [
    "# displays the top 100 lowest (least) \"amount\" values along with \"items\"\n",
    "\n",
    "data_s = data.nsmallest(records, [\"amount\", \"items\"]).head(100)\n",
    "data_s[\"region\"].value_counts()"
   ]
  },
  {
   "cell_type": "code",
   "execution_count": 26,
   "id": "f5256d26",
   "metadata": {},
   "outputs": [
    {
     "data": {
      "text/plain": [
       "4    63\n",
       "3    37\n",
       "Name: region, dtype: int64"
      ]
     },
     "execution_count": 26,
     "metadata": {},
     "output_type": "execute_result"
    }
   ],
   "source": [
    "# displays the top 100 highest (greatest) \"amount\" values along with \"items\"\n",
    "\n",
    "data_l = data.nlargest(records, [\"amount\", \"items\"]).head(100)\n",
    "data_l[\"region\"].value_counts()"
   ]
  },
  {
   "cell_type": "code",
   "execution_count": 27,
   "id": "ef7ff7bd",
   "metadata": {},
   "outputs": [
    {
     "data": {
      "image/png": "[encoded data removed]",
      "text/plain": [
       "<Figure size 432x288 with 1 Axes>"
      ]
     },
     "metadata": {
      "needs_background": "light"
     },
     "output_type": "display_data"
    }
   ],
   "source": [
    "# no discernible difference between amount of purchases made, given type\n",
    "\n",
    "plt.hist(data[\"in-store\"], bins=4)\n",
    "plt.title(\"Histogram by Purchase Type (Modified Dataframe)\")\n",
    "plt.xlabel(\"0 = Online Purchase  1 = In-store Purchase\")\n",
    "plt.ylabel(\"Count\")\n",
    "plt.show()"
   ]
  },
  {
   "cell_type": "code",
   "execution_count": 28,
   "id": "b87429f4",
   "metadata": {},
   "outputs": [
    {
     "data": {
      "image/png": "[encoded data removed]",
      "text/plain": [
       "<Figure size 432x288 with 1 Axes>"
      ]
     },
     "metadata": {
      "needs_background": "light"
     },
     "output_type": "display_data"
    }
   ],
   "source": [
    "# most purchases were made by people between the ages of 30 and about 55\n",
    "\n",
    "# further detail may be shown by increasing the number of bins\n",
    "\n",
    "plt.hist(data[\"age\"], bins=7)\n",
    "plt.title(\"Histogram by Age (Modified Dataframe)\")\n",
    "plt.xlabel(\"Age\")\n",
    "plt.ylabel(\"Count\")\n",
    "plt.show()"
   ]
  },
  {
   "cell_type": "code",
   "execution_count": 29,
   "id": "22f7d225",
   "metadata": {},
   "outputs": [
    {
     "data": {
      "image/png": "[encoded data removed]",
      "text/plain": [
       "<Figure size 432x288 with 1 Axes>"
      ]
     },
     "metadata": {
      "needs_background": "light"
     },
     "output_type": "display_data"
    }
   ],
   "source": [
    "# not too helpful a visualization, but it clearly shows that a majority of item amounts were between 2 and 7\n",
    "\n",
    "plt.hist(data[\"items\"], bins=10)\n",
    "plt.title(\"Histogram by Items (Modified Dataframe)\")\n",
    "plt.xlabel(\"Number of Items Purchased\")\n",
    "plt.ylabel(\"Count\")\n",
    "plt.show()"
   ]
  },
  {
   "cell_type": "code",
   "execution_count": 30,
   "id": "cb3a0906",
   "metadata": {},
   "outputs": [
    {
     "data": {
      "image/png": "[encoded data removed]",
      "text/plain": [
       "<Figure size 432x288 with 1 Axes>"
      ]
     },
     "metadata": {
      "needs_background": "light"
     },
     "output_type": "display_data"
    }
   ],
   "source": [
    "# large portion of purchases were valued between 0 and 500 dollars.\n",
    "\n",
    "plt.hist(data[\"amount\"], bins=10)\n",
    "plt.title(\"Histogram by Amount (Modified Dataframe)\")\n",
    "plt.xlabel(\"Amount of Money Spent\")\n",
    "plt.ylabel(\"Count\")\n",
    "plt.show()"
   ]
  },
  {
   "cell_type": "code",
   "execution_count": 31,
   "id": "cd9024e5",
   "metadata": {},
   "outputs": [
    {
     "data": {
      "image/png": "[encoded data removed]",
      "text/plain": [
       "<Figure size 432x288 with 1 Axes>"
      ]
     },
     "metadata": {
      "needs_background": "light"
     },
     "output_type": "display_data"
    }
   ],
   "source": [
    "# overall, this indicates that the West region is more represented in the Modified Dataframe than other regions\n",
    "\n",
    "plt.hist(data[\"region\"], bins=7)\n",
    "plt.title(\"Histogram by Region (Modified Dataframe)\")\n",
    "plt.xlabel(\"1 = North  2 = South  3 = East  4 = West\")\n",
    "plt.ylabel(\"Count\")\n",
    "plt.show()"
   ]
  },
  {
   "cell_type": "code",
   "execution_count": 32,
   "id": "a8319176",
   "metadata": {},
   "outputs": [],
   "source": [
    "# kept for note-taking purposes, but not necessary for EDA purposes\n",
    "\n",
    "# there appears to be some outliers\n",
    "\n",
    "# mid-range (30-55) populations tend to spend more while older (60+) populations tend to spend less\n",
    "\n",
    "\n",
    "# data_sample = data.sample(100)\n",
    "\n",
    "# x = data_sample[\"age\"]\n",
    "# y = data_sample[\"amount\"]\n",
    "\n",
    "\n",
    "# plt.scatter(x, y, marker=\"o\")\n",
    "# plt.title(\"Scatter plot of Age and Amount based on Randomized Sample of Data (Modified Dataframe)\")\n",
    "# plt.xlabel(\"Age\")\n",
    "# plt.ylabel(\"Amount\")\n",
    "# plt.show()"
   ]
  },
  {
   "cell_type": "code",
   "execution_count": 33,
   "id": "8da9d90e",
   "metadata": {
    "scrolled": true
   },
   "outputs": [
    {
     "data": {
      "image/png": "[encoded data removed]",
      "text/plain": [
       "<Figure size 432x288 with 1 Axes>"
      ]
     },
     "metadata": {
      "needs_background": "light"
     },
     "output_type": "display_data"
    }
   ],
   "source": [
    "# note based on Group Meeting - scatter plots *should not* include categorical data, such as what \"region\" represents \n",
    "\n",
    "data_sample = data.sample(100)\n",
    "\n",
    "x = data_sample[\"region\"]\n",
    "y = data_sample[\"amount\"]\n",
    "\n",
    "\n",
    "plt.scatter(x, y, marker=\"o\")\n",
    "plt.title(\"Scatter plot of Region and Amount based on Randomized Sample of Data (Modified Dataframe)\")\n",
    "plt.xlabel(\"Region\")\n",
    "plt.ylabel(\"Amount\")\n",
    "plt.show()"
   ]
  },
  {
   "cell_type": "code",
   "execution_count": 34,
   "id": "a75ae02e",
   "metadata": {},
   "outputs": [],
   "source": [
    "# kept for note-taking purposes, but not necessary for EDA purposes\n",
    "\n",
    "# data_sample = data.sample(100)\n",
    "\n",
    "# x = data_sample[\"items\"]\n",
    "# y = data_sample[\"amount\"]\n",
    "\n",
    "\n",
    "# plt.scatter(x, y, marker=\"o\")\n",
    "# plt.title(\"Scatter plot of Items and Amount based on Randomized Sample of Data (Modified Dataframe)\")\n",
    "# plt.xlabel(\"Items\")\n",
    "# plt.ylabel(\"Amount\")\n",
    "# plt.show()"
   ]
  },
  {
   "cell_type": "code",
   "execution_count": 35,
   "id": "600081dd",
   "metadata": {},
   "outputs": [
    {
     "data": {
      "image/png": "[encoded data removed]",
      "text/plain": [
       "<Figure size 432x288 with 1 Axes>"
      ]
     },
     "metadata": {
      "needs_background": "light"
     },
     "output_type": "display_data"
    }
   ],
   "source": [
    "# see the describe() function for precise breakdowns of the lower, median and upper quartiles\n",
    "\n",
    "A = data[\"amount\"]\n",
    "\n",
    "plt.boxplot(A, 0, \"gD\")\n",
    "plt.title(\"Boxplot by Amount (Modified Dataframe)\")\n",
    "plt.xlabel(\"Figure\")\n",
    "plt.ylabel(\"Amount\")\n",
    "plt.show()"
   ]
  },
  {
   "cell_type": "code",
   "execution_count": 36,
   "id": "75b46361",
   "metadata": {},
   "outputs": [
    {
     "data": {
      "image/png": "[encoded data removed]",
      "text/plain": [
       "<Figure size 432x288 with 1 Axes>"
      ]
     },
     "metadata": {
      "needs_background": "light"
     },
     "output_type": "display_data"
    }
   ],
   "source": [
    "# see the describe() function for precise breakdowns of the lower, median and upper quartiles\n",
    "\n",
    "B = data[\"age\"]\n",
    "\n",
    "plt.boxplot(B, 0, \"gD\")\n",
    "plt.title(\"Histogram by Age (Modified Dataframe)\")\n",
    "plt.xlabel(\"Figure\")\n",
    "plt.ylabel(\"Age\")\n",
    "plt.show()"
   ]
  },
  {
   "cell_type": "code",
   "execution_count": 37,
   "id": "54b67e5f",
   "metadata": {},
   "outputs": [
    {
     "data": {
      "image/png": "[encoded data removed]",
      "text/plain": [
       "<Figure size 432x288 with 1 Axes>"
      ]
     },
     "metadata": {
      "needs_background": "light"
     },
     "output_type": "display_data"
    }
   ],
   "source": [
    "# see the describe() function for precise breakdowns of the lower, median and upper quartiles\n",
    "\n",
    "C = data[\"items\"]\n",
    "\n",
    "plt.boxplot(C, 0, \"gD\")\n",
    "plt.title(\"Histogram by Items (Modified Dataframe)\")\n",
    "plt.xlabel(\"Figure\")\n",
    "plt.ylabel(\"Items\")\n",
    "plt.show()"
   ]
  },
  {
   "cell_type": "code",
   "execution_count": 38,
   "id": "d852b2ad",
   "metadata": {},
   "outputs": [
    {
     "data": {
      "text/html": [
       "<div>\n",
       "<style scoped>\n",
       "    .dataframe tbody tr th:only-of-type {\n",
       "        vertical-align: middle;\n",
       "    }\n",
       "\n",
       "    .dataframe tbody tr th {\n",
       "        vertical-align: top;\n",
       "    }\n",
       "\n",
       "    .dataframe thead th {\n",
       "        text-align: right;\n",
       "    }\n",
       "</style>\n",
       "<table border=\"1\" class=\"dataframe\">\n",
       "  <thead>\n",
       "    <tr style=\"text-align: right;\">\n",
       "      <th></th>\n",
       "      <th>in-store</th>\n",
       "      <th>age</th>\n",
       "      <th>items</th>\n",
       "      <th>amount</th>\n",
       "      <th>region</th>\n",
       "    </tr>\n",
       "  </thead>\n",
       "  <tbody>\n",
       "    <tr>\n",
       "      <th>in-store</th>\n",
       "      <td>1.000000</td>\n",
       "      <td>-0.178180</td>\n",
       "      <td>-0.003897</td>\n",
       "      <td>-0.085573</td>\n",
       "      <td>-0.133171</td>\n",
       "    </tr>\n",
       "    <tr>\n",
       "      <th>age</th>\n",
       "      <td>-0.178180</td>\n",
       "      <td>1.000000</td>\n",
       "      <td>0.000657</td>\n",
       "      <td>-0.282033</td>\n",
       "      <td>-0.235370</td>\n",
       "    </tr>\n",
       "    <tr>\n",
       "      <th>items</th>\n",
       "      <td>-0.003897</td>\n",
       "      <td>0.000657</td>\n",
       "      <td>1.000000</td>\n",
       "      <td>0.000384</td>\n",
       "      <td>-0.001904</td>\n",
       "    </tr>\n",
       "    <tr>\n",
       "      <th>amount</th>\n",
       "      <td>-0.085573</td>\n",
       "      <td>-0.282033</td>\n",
       "      <td>0.000384</td>\n",
       "      <td>1.000000</td>\n",
       "      <td>0.403486</td>\n",
       "    </tr>\n",
       "    <tr>\n",
       "      <th>region</th>\n",
       "      <td>-0.133171</td>\n",
       "      <td>-0.235370</td>\n",
       "      <td>-0.001904</td>\n",
       "      <td>0.403486</td>\n",
       "      <td>1.000000</td>\n",
       "    </tr>\n",
       "  </tbody>\n",
       "</table>\n",
       "</div>"
      ],
      "text/plain": [
       "          in-store       age     items    amount    region\n",
       "in-store  1.000000 -0.178180 -0.003897 -0.085573 -0.133171\n",
       "age      -0.178180  1.000000  0.000657 -0.282033 -0.235370\n",
       "items    -0.003897  0.000657  1.000000  0.000384 -0.001904\n",
       "amount   -0.085573 -0.282033  0.000384  1.000000  0.403486\n",
       "region   -0.133171 -0.235370 -0.001904  0.403486  1.000000"
      ]
     },
     "execution_count": 38,
     "metadata": {},
     "output_type": "execute_result"
    }
   ],
   "source": [
    "# correlation graph for the Modified Dataframe\n",
    "\n",
    "# variables that have weak correlations with all other variables: \"in-store\" + \"age\" + \"items\"\n",
    "\n",
    "# the \"amount\" variable appears moderately correlated with the \"region\" variable (0.40)\n",
    "\n",
    "# for this reason, the \"amount\" versus \"region\" correlation could be a potential feature for Model Development\n",
    "\n",
    "corr_mat = data.corr()\n",
    "\n",
    "corr_mat"
   ]
  },
  {
   "cell_type": "code",
   "execution_count": 39,
   "id": "e9f57532",
   "metadata": {
    "scrolled": true
   },
   "outputs": [
    {
     "data": {
      "text/html": [
       "<div>\n",
       "<style scoped>\n",
       "    .dataframe tbody tr th:only-of-type {\n",
       "        vertical-align: middle;\n",
       "    }\n",
       "\n",
       "    .dataframe tbody tr th {\n",
       "        vertical-align: top;\n",
       "    }\n",
       "\n",
       "    .dataframe thead th {\n",
       "        text-align: right;\n",
       "    }\n",
       "</style>\n",
       "<table border=\"1\" class=\"dataframe\">\n",
       "  <thead>\n",
       "    <tr style=\"text-align: right;\">\n",
       "      <th></th>\n",
       "      <th>in-store</th>\n",
       "      <th>age</th>\n",
       "      <th>items</th>\n",
       "      <th>amount</th>\n",
       "      <th>region</th>\n",
       "    </tr>\n",
       "  </thead>\n",
       "  <tbody>\n",
       "    <tr>\n",
       "      <th>in-store</th>\n",
       "      <td>0.250003</td>\n",
       "      <td>-1.400071</td>\n",
       "      <td>-0.004017</td>\n",
       "      <td>-30.860425</td>\n",
       "      <td>-0.075019</td>\n",
       "    </tr>\n",
       "    <tr>\n",
       "      <th>age</th>\n",
       "      <td>-1.400071</td>\n",
       "      <td>246.966189</td>\n",
       "      <td>0.021270</td>\n",
       "      <td>-3196.782841</td>\n",
       "      <td>-4.167305</td>\n",
       "    </tr>\n",
       "    <tr>\n",
       "      <th>items</th>\n",
       "      <td>-0.004017</td>\n",
       "      <td>0.021270</td>\n",
       "      <td>4.248751</td>\n",
       "      <td>0.570791</td>\n",
       "      <td>-0.004421</td>\n",
       "    </tr>\n",
       "    <tr>\n",
       "      <th>amount</th>\n",
       "      <td>-30.860425</td>\n",
       "      <td>-3196.782841</td>\n",
       "      <td>0.570791</td>\n",
       "      <td>520221.252295</td>\n",
       "      <td>327.874873</td>\n",
       "    </tr>\n",
       "    <tr>\n",
       "      <th>region</th>\n",
       "      <td>-0.075019</td>\n",
       "      <td>-4.167305</td>\n",
       "      <td>-0.004421</td>\n",
       "      <td>327.874873</td>\n",
       "      <td>1.269321</td>\n",
       "    </tr>\n",
       "  </tbody>\n",
       "</table>\n",
       "</div>"
      ],
      "text/plain": [
       "           in-store          age     items         amount      region\n",
       "in-store   0.250003    -1.400071 -0.004017     -30.860425   -0.075019\n",
       "age       -1.400071   246.966189  0.021270   -3196.782841   -4.167305\n",
       "items     -0.004017     0.021270  4.248751       0.570791   -0.004421\n",
       "amount   -30.860425 -3196.782841  0.570791  520221.252295  327.874873\n",
       "region    -0.075019    -4.167305 -0.004421     327.874873    1.269321"
      ]
     },
     "execution_count": 39,
     "metadata": {},
     "output_type": "execute_result"
    }
   ],
   "source": [
    "# covariance graph for the Modified Dataframe\n",
    "\n",
    "# the \"age\" and \"amount\" variables have a strong negative covariance (-3196.78)\n",
    "# this means that as one variable increases, the other variable strongly decreases\n",
    "\n",
    "# the \"items\" and \"amount\" variables have a moderate covariance (0.57)\n",
    "# this means that as one variable increases, the other variable moderately increases\n",
    "\n",
    "# the \"amount\" and \"region\" variables have a strong covariance (327.87)\n",
    "# this means that as one variable increases, the other variable strongly increases\n",
    "\n",
    "# the \"amount\" and \"region\" covariance value would make for a good feature for Model Development\n",
    "# this is because those two variables are what we are trying to understand more about\n",
    "\n",
    "# it may also be worth considering as a feature the \"age\" and \"amount\" covariance value\n",
    "# this is because strong negative relationships help us to understand which variables \"work against\" each other\n",
    "\n",
    "cov_mat = data.cov()\n",
    "\n",
    "cov_mat"
   ]
  },
  {
   "cell_type": "code",
   "execution_count": 40,
   "id": "530b13ef",
   "metadata": {},
   "outputs": [
    {
     "data": {
      "text/plain": [
       "2    6162\n",
       "1    1460\n",
       "3    1411\n",
       "4     967\n",
       "Name: region, dtype: int64"
      ]
     },
     "execution_count": 40,
     "metadata": {},
     "output_type": "execute_result"
    }
   ],
   "source": [
    "# displays the regions's respective counts for the smallest \"amount\" values from the Modified Dataframe based on 10000 elements\n",
    "\n",
    "# clearly indicates that the South region is over-represented for low \"amount\" values\n",
    "\n",
    "data.nsmallest(10000, \"amount\")[\"region\"].value_counts()"
   ]
  },
  {
   "cell_type": "code",
   "execution_count": 41,
   "id": "be726b3d",
   "metadata": {},
   "outputs": [
    {
     "data": {
      "text/plain": [
       "4    6491\n",
       "3    2844\n",
       "1     665\n",
       "Name: region, dtype: int64"
      ]
     },
     "execution_count": 41,
     "metadata": {},
     "output_type": "execute_result"
    }
   ],
   "source": [
    "# displays the regions's respective counts for the largest \"amount\" values from the Modified Dataframe based on 10000 elements\n",
    "\n",
    "# clearly indicates that the West region is over-representated for high \"amount\" values\n",
    "\n",
    "data.nlargest(10000, \"amount\")[\"region\"].value_counts()"
   ]
  },
  {
   "cell_type": "code",
   "execution_count": 42,
   "id": "c34874a0",
   "metadata": {
    "scrolled": true
   },
   "outputs": [
    {
     "data": {
      "text/plain": [
       "4    3357\n",
       "2    2489\n",
       "3    2218\n",
       "1    1936\n",
       "Name: region, dtype: int64"
      ]
     },
     "execution_count": 42,
     "metadata": {},
     "output_type": "execute_result"
    }
   ],
   "source": [
    "# displays the region's respective counts for the smallest \"item\" values from the Modified Dataframe based on 10000 elements\n",
    "\n",
    "data.nsmallest(10000, \"items\")[\"region\"].value_counts()"
   ]
  },
  {
   "cell_type": "code",
   "execution_count": 43,
   "id": "18dc6ed4",
   "metadata": {
    "scrolled": false
   },
   "outputs": [
    {
     "data": {
      "text/plain": [
       "4    3261\n",
       "2    2506\n",
       "3    2241\n",
       "1    1992\n",
       "Name: region, dtype: int64"
      ]
     },
     "execution_count": 43,
     "metadata": {},
     "output_type": "execute_result"
    }
   ],
   "source": [
    "# displays the region's respective counts for the largest \"item\" values from the Modified Dataframe based on 10000 elements\n",
    "\n",
    "data.nlargest(10000, \"items\")[\"region\"].value_counts()"
   ]
  },
  {
   "cell_type": "markdown",
   "id": "87ff2c22",
   "metadata": {},
   "source": [
    "## EDA aggregation (grouping the \"amount\" data by \"region\" and then applying the sum() function) --> fundamental answer to the first question (which region spends the most/least)"
   ]
  },
  {
   "cell_type": "code",
   "execution_count": 167,
   "id": "63a30291",
   "metadata": {},
   "outputs": [
    {
     "name": "stdout",
     "output_type": "stream",
     "text": [
      "Total Amount values per Region.\n",
      " \n",
      "             amount\n",
      "region            \n",
      "1      11917620.05\n",
      "2       5040442.24\n",
      "3      16523453.47\n",
      "4      33366990.02 \n",
      " \n",
      "We clearly see that the West region was the most profitable while the South region was the least profitable.\n"
     ]
    }
   ],
   "source": [
    "# this groups the \"amount\" column values by their respective regions and \n",
    "# then displays the sum of each region's \"amount\" columns.\n",
    "\n",
    "# It is important to understand that there is more data in the West region than any other region.\n",
    "\n",
    "# Because there is a non-equal amount of entries per region, \n",
    "\n",
    "# This clearly shows that the West region is the most profitable region and the South region is the least profitable.\n",
    "\n",
    "pd.options.display.float_format = '{:.2f}'.format\n",
    "\n",
    "# the above code reformats how the float data is displayed. It basically converts the float values from scientific notation \n",
    "# into standard decimal form, including two decimal places\n",
    "\n",
    "summed_data = data[[\"amount\", \"region\"]].groupby(\"region\").sum()\n",
    "\n",
    "\n",
    "# the code below \n",
    "\n",
    "first_print = \"Total Amount values per Region.\\n\"\n",
    "second_print = \"\\nWe clearly see that the West region was the most profitable while the South region was the least profitable.\"\n",
    "\n",
    "print(first_print, \"\\n\", summed_data, \"\\n\", second_print)"
   ]
  },
  {
   "cell_type": "code",
   "execution_count": null,
   "id": "5699a2a7",
   "metadata": {},
   "outputs": [],
   "source": []
  },
  {
   "cell_type": "markdown",
   "id": "88e5982b",
   "metadata": {},
   "source": [
    "## EDA on the (LQD) Lower Quartile Dataframe (sub-selection of the Modified Dataframe)"
   ]
  },
  {
   "cell_type": "code",
   "execution_count": 45,
   "id": "87ad846b",
   "metadata": {
    "scrolled": true
   },
   "outputs": [
    {
     "data": {
      "text/html": [
       "<div>\n",
       "<style scoped>\n",
       "    .dataframe tbody tr th:only-of-type {\n",
       "        vertical-align: middle;\n",
       "    }\n",
       "\n",
       "    .dataframe tbody tr th {\n",
       "        vertical-align: top;\n",
       "    }\n",
       "\n",
       "    .dataframe thead th {\n",
       "        text-align: right;\n",
       "    }\n",
       "</style>\n",
       "<table border=\"1\" class=\"dataframe\">\n",
       "  <thead>\n",
       "    <tr style=\"text-align: right;\">\n",
       "      <th></th>\n",
       "      <th>age</th>\n",
       "      <th>items</th>\n",
       "      <th>amount</th>\n",
       "      <th>region</th>\n",
       "    </tr>\n",
       "  </thead>\n",
       "  <tbody>\n",
       "    <tr>\n",
       "      <th>count</th>\n",
       "      <td>19995.000000</td>\n",
       "      <td>19995.000000</td>\n",
       "      <td>19995.000000</td>\n",
       "      <td>19995.000000</td>\n",
       "    </tr>\n",
       "    <tr>\n",
       "      <th>mean</th>\n",
       "      <td>51.386247</td>\n",
       "      <td>4.503426</td>\n",
       "      <td>156.248918</td>\n",
       "      <td>2.243611</td>\n",
       "    </tr>\n",
       "    <tr>\n",
       "      <th>std</th>\n",
       "      <td>16.668361</td>\n",
       "      <td>2.059028</td>\n",
       "      <td>75.990171</td>\n",
       "      <td>0.851079</td>\n",
       "    </tr>\n",
       "    <tr>\n",
       "      <th>min</th>\n",
       "      <td>18.000000</td>\n",
       "      <td>1.000000</td>\n",
       "      <td>5.004700</td>\n",
       "      <td>1.000000</td>\n",
       "    </tr>\n",
       "    <tr>\n",
       "      <th>25%</th>\n",
       "      <td>38.000000</td>\n",
       "      <td>3.000000</td>\n",
       "      <td>92.953500</td>\n",
       "      <td>2.000000</td>\n",
       "    </tr>\n",
       "    <tr>\n",
       "      <th>50%</th>\n",
       "      <td>50.000000</td>\n",
       "      <td>4.000000</td>\n",
       "      <td>158.310000</td>\n",
       "      <td>2.000000</td>\n",
       "    </tr>\n",
       "    <tr>\n",
       "      <th>75%</th>\n",
       "      <td>65.000000</td>\n",
       "      <td>6.000000</td>\n",
       "      <td>221.290000</td>\n",
       "      <td>3.000000</td>\n",
       "    </tr>\n",
       "    <tr>\n",
       "      <th>max</th>\n",
       "      <td>85.000000</td>\n",
       "      <td>8.000000</td>\n",
       "      <td>285.110000</td>\n",
       "      <td>4.000000</td>\n",
       "    </tr>\n",
       "  </tbody>\n",
       "</table>\n",
       "</div>"
      ],
      "text/plain": [
       "                age         items        amount        region\n",
       "count  19995.000000  19995.000000  19995.000000  19995.000000\n",
       "mean      51.386247      4.503426    156.248918      2.243611\n",
       "std       16.668361      2.059028     75.990171      0.851079\n",
       "min       18.000000      1.000000      5.004700      1.000000\n",
       "25%       38.000000      3.000000     92.953500      2.000000\n",
       "50%       50.000000      4.000000    158.310000      2.000000\n",
       "75%       65.000000      6.000000    221.290000      3.000000\n",
       "max       85.000000      8.000000    285.110000      4.000000"
      ]
     },
     "execution_count": 45,
     "metadata": {},
     "output_type": "execute_result"
    }
   ],
   "source": [
    "# this dataframe is generated by making a sub-selection from the Modified Dataframe\n",
    "# based on a conditional statement, which seeks to find data elements where\n",
    "# the amount values are less than or equal to the lower quartile (<= 25%)\n",
    "\n",
    "# this is done so that I can analyze data points that correspond to the lower-bound values asssociated with the\n",
    "# \"items\" and amount\" columns based on the \"region\" column \n",
    "\n",
    "lower_quartile = 285.12\n",
    "\n",
    "data_lower = data[[\"age\", \"items\", \"amount\", \"region\"]][data[\"amount\"] <= lower_quartile]\n",
    "data_lower.describe()"
   ]
  },
  {
   "cell_type": "code",
   "execution_count": 46,
   "id": "655a7fa5",
   "metadata": {},
   "outputs": [
    {
     "data": {
      "image/png": "[encoded data removed]",
      "text/plain": [
       "<Figure size 432x288 with 1 Axes>"
      ]
     },
     "metadata": {
      "needs_background": "light"
     },
     "output_type": "display_data"
    }
   ],
   "source": [
    "plt.hist(data_lower[\"age\"], bins=7)\n",
    "plt.title(\"Histogram by Age (Lower Quartile Dataframe)\")\n",
    "plt.xlabel(\"Age\")\n",
    "plt.ylabel(\"Count\")\n",
    "plt.show()"
   ]
  },
  {
   "cell_type": "code",
   "execution_count": 47,
   "id": "9cc4ae0c",
   "metadata": {},
   "outputs": [
    {
     "data": {
      "image/png": "[encoded data removed]",
      "text/plain": [
       "<Figure size 432x288 with 1 Axes>"
      ]
     },
     "metadata": {
      "needs_background": "light"
     },
     "output_type": "display_data"
    }
   ],
   "source": [
    "plt.hist(data_lower[\"amount\"], bins=7)\n",
    "plt.title(\"Histogram by Amount (Lower Quartile Dataframe)\")\n",
    "plt.xlabel(\"Amount\")\n",
    "plt.ylabel(\"Count\")\n",
    "plt.show()"
   ]
  },
  {
   "cell_type": "code",
   "execution_count": 48,
   "id": "5c923126",
   "metadata": {},
   "outputs": [
    {
     "data": {
      "image/png": "[encoded data removed]",
      "text/plain": [
       "<Figure size 432x288 with 1 Axes>"
      ]
     },
     "metadata": {
      "needs_background": "light"
     },
     "output_type": "display_data"
    }
   ],
   "source": [
    "plt.hist(data_lower[\"items\"], bins=7)\n",
    "plt.title(\"Histogram by Items (Lower Quartile Dataframe)\")\n",
    "plt.xlabel(\"Number of Items Purchased\")\n",
    "plt.ylabel(\"Count\")\n",
    "plt.show()"
   ]
  },
  {
   "cell_type": "code",
   "execution_count": 49,
   "id": "b36c8c2c",
   "metadata": {
    "scrolled": true
   },
   "outputs": [
    {
     "data": {
      "image/png": "[encoded data removed]",
      "text/plain": [
       "<Figure size 432x288 with 1 Axes>"
      ]
     },
     "metadata": {
      "needs_background": "light"
     },
     "output_type": "display_data"
    }
   ],
   "source": [
    "# clearly shows that purchase amounts falling at or below the Lower Quartile are coming mostly from the South region\n",
    "\n",
    "plt.hist(data_lower[\"region\"], bins=7)\n",
    "plt.title(\"Histogram by Region (Lower Quartile Dataframe)\")\n",
    "plt.xlabel(\"1 = North  2 = South  3 = East  4 = West\")\n",
    "plt.ylabel(\"Count\")\n",
    "plt.show()"
   ]
  },
  {
   "cell_type": "code",
   "execution_count": 50,
   "id": "42bf941f",
   "metadata": {
    "scrolled": true
   },
   "outputs": [],
   "source": [
    "# note based on Group Meeting - scatter plots *should not* include categorical data, such as what \"region\" represents \n",
    "\n",
    "# kept for note-taking purposes, but not necessary for EDA purposes\n",
    "\n",
    "# data_lower_sample = data_lower.sample(100)\n",
    "\n",
    "# x_lower = data_lower_sample[\"region\"]\n",
    "# y_lower = data_lower_sample[\"amount\"]\n",
    "\n",
    "\n",
    "# plt.scatter(x_lower, y_lower, marker=\"o\")\n",
    "# plt.title(\"Scatterplot of Region and Amount based on Randomized Sample of Data (Lower Quartile Dataframe)\")\n",
    "# plt.xlabel(\"1 = North  2 = South  3 = East  4 = West\")\n",
    "# plt.ylabel(\"Amount\")\n",
    "# plt.show()"
   ]
  },
  {
   "cell_type": "code",
   "execution_count": 51,
   "id": "3fd63e90",
   "metadata": {},
   "outputs": [],
   "source": [
    "# kept for note-taking purposes, but not necessary for EDA purposes\n",
    "\n",
    "# data_lower_sample = data_lower.sample(100)\n",
    "\n",
    "# x_lower = data_lower_sample[\"items\"]\n",
    "# y_lower = data_lower_sample[\"amount\"]\n",
    "\n",
    "\n",
    "# plt.scatter(x_lower, y_lower, marker=\"o\")\n",
    "# plt.title(\"Scatterplot of Items and Amount based on Randomized Sample of Data (Lower Quartile Dataframe)\")\n",
    "# plt.xlabel(\"Items\")\n",
    "# plt.ylabel(\"Amount\")\n",
    "# plt.show()"
   ]
  },
  {
   "cell_type": "code",
   "execution_count": 52,
   "id": "6b49e1fd",
   "metadata": {},
   "outputs": [
    {
     "data": {
      "image/png": "[encoded data removed]",
      "text/plain": [
       "<Figure size 432x288 with 1 Axes>"
      ]
     },
     "metadata": {
      "needs_background": "light"
     },
     "output_type": "display_data"
    }
   ],
   "source": [
    "A_lower = data_lower[\"amount\"]\n",
    "\n",
    "plt.boxplot(A_lower, 0, \"gD\")\n",
    "plt.title(\"Boxplot by Amount (Lower Quartile Dataframe)\")\n",
    "plt.xlabel(\"Figure\")\n",
    "plt.ylabel(\"Amount\")\n",
    "plt.show()"
   ]
  },
  {
   "cell_type": "code",
   "execution_count": 53,
   "id": "474ac543",
   "metadata": {},
   "outputs": [
    {
     "data": {
      "image/png": "[encoded data removed]",
      "text/plain": [
       "<Figure size 432x288 with 1 Axes>"
      ]
     },
     "metadata": {
      "needs_background": "light"
     },
     "output_type": "display_data"
    }
   ],
   "source": [
    "B_lower = data_lower[\"age\"]\n",
    "\n",
    "plt.boxplot(B_lower, 0, \"gD\")\n",
    "plt.title(\"Boxplot by Age (Lower Quartile Dataframe)\")\n",
    "plt.xlabel(\"Figure\")\n",
    "plt.ylabel(\"Age\")\n",
    "plt.show()"
   ]
  },
  {
   "cell_type": "code",
   "execution_count": 54,
   "id": "6fd748d9",
   "metadata": {},
   "outputs": [
    {
     "data": {
      "image/png": "[encoded data removed]",
      "text/plain": [
       "<Figure size 432x288 with 1 Axes>"
      ]
     },
     "metadata": {
      "needs_background": "light"
     },
     "output_type": "display_data"
    }
   ],
   "source": [
    "C_lower = data_lower[\"items\"]\n",
    "\n",
    "plt.boxplot(C_lower, 0, \"gD\")\n",
    "plt.title(\"Boxplot by Items (Lower Quartile Dataframe)\")\n",
    "plt.xlabel(\"Figure\")\n",
    "plt.ylabel(\"Items\")\n",
    "plt.show()"
   ]
  },
  {
   "cell_type": "code",
   "execution_count": 55,
   "id": "391c62e0",
   "metadata": {
    "scrolled": true
   },
   "outputs": [
    {
     "data": {
      "text/html": [
       "<div>\n",
       "<style scoped>\n",
       "    .dataframe tbody tr th:only-of-type {\n",
       "        vertical-align: middle;\n",
       "    }\n",
       "\n",
       "    .dataframe tbody tr th {\n",
       "        vertical-align: top;\n",
       "    }\n",
       "\n",
       "    .dataframe thead th {\n",
       "        text-align: right;\n",
       "    }\n",
       "</style>\n",
       "<table border=\"1\" class=\"dataframe\">\n",
       "  <thead>\n",
       "    <tr style=\"text-align: right;\">\n",
       "      <th></th>\n",
       "      <th>age</th>\n",
       "      <th>items</th>\n",
       "      <th>amount</th>\n",
       "      <th>region</th>\n",
       "    </tr>\n",
       "  </thead>\n",
       "  <tbody>\n",
       "    <tr>\n",
       "      <th>age</th>\n",
       "      <td>1.000000</td>\n",
       "      <td>-0.000567</td>\n",
       "      <td>-0.058764</td>\n",
       "      <td>-0.189836</td>\n",
       "    </tr>\n",
       "    <tr>\n",
       "      <th>items</th>\n",
       "      <td>-0.000567</td>\n",
       "      <td>1.000000</td>\n",
       "      <td>-0.003109</td>\n",
       "      <td>-0.008168</td>\n",
       "    </tr>\n",
       "    <tr>\n",
       "      <th>amount</th>\n",
       "      <td>-0.058764</td>\n",
       "      <td>-0.003109</td>\n",
       "      <td>1.000000</td>\n",
       "      <td>0.092465</td>\n",
       "    </tr>\n",
       "    <tr>\n",
       "      <th>region</th>\n",
       "      <td>-0.189836</td>\n",
       "      <td>-0.008168</td>\n",
       "      <td>0.092465</td>\n",
       "      <td>1.000000</td>\n",
       "    </tr>\n",
       "  </tbody>\n",
       "</table>\n",
       "</div>"
      ],
      "text/plain": [
       "             age     items    amount    region\n",
       "age     1.000000 -0.000567 -0.058764 -0.189836\n",
       "items  -0.000567  1.000000 -0.003109 -0.008168\n",
       "amount -0.058764 -0.003109  1.000000  0.092465\n",
       "region -0.189836 -0.008168  0.092465  1.000000"
      ]
     },
     "execution_count": 55,
     "metadata": {},
     "output_type": "execute_result"
    }
   ],
   "source": [
    "# correlation graph associated with the Lower Quartile Dataframe (LQD)\n",
    "\n",
    "data_lower.corr()"
   ]
  },
  {
   "cell_type": "code",
   "execution_count": 56,
   "id": "a2520778",
   "metadata": {},
   "outputs": [
    {
     "data": {
      "text/html": [
       "<div>\n",
       "<style scoped>\n",
       "    .dataframe tbody tr th:only-of-type {\n",
       "        vertical-align: middle;\n",
       "    }\n",
       "\n",
       "    .dataframe tbody tr th {\n",
       "        vertical-align: top;\n",
       "    }\n",
       "\n",
       "    .dataframe thead th {\n",
       "        text-align: right;\n",
       "    }\n",
       "</style>\n",
       "<table border=\"1\" class=\"dataframe\">\n",
       "  <thead>\n",
       "    <tr style=\"text-align: right;\">\n",
       "      <th></th>\n",
       "      <th>age</th>\n",
       "      <th>items</th>\n",
       "      <th>amount</th>\n",
       "      <th>region</th>\n",
       "    </tr>\n",
       "  </thead>\n",
       "  <tbody>\n",
       "    <tr>\n",
       "      <th>age</th>\n",
       "      <td>277.834251</td>\n",
       "      <td>-0.019454</td>\n",
       "      <td>-74.432198</td>\n",
       "      <td>-2.693028</td>\n",
       "    </tr>\n",
       "    <tr>\n",
       "      <th>items</th>\n",
       "      <td>-0.019454</td>\n",
       "      <td>4.239598</td>\n",
       "      <td>-0.486499</td>\n",
       "      <td>-0.014314</td>\n",
       "    </tr>\n",
       "    <tr>\n",
       "      <th>amount</th>\n",
       "      <td>-74.432198</td>\n",
       "      <td>-0.486499</td>\n",
       "      <td>5774.506051</td>\n",
       "      <td>5.980051</td>\n",
       "    </tr>\n",
       "    <tr>\n",
       "      <th>region</th>\n",
       "      <td>-2.693028</td>\n",
       "      <td>-0.014314</td>\n",
       "      <td>5.980051</td>\n",
       "      <td>0.724336</td>\n",
       "    </tr>\n",
       "  </tbody>\n",
       "</table>\n",
       "</div>"
      ],
      "text/plain": [
       "               age     items       amount    region\n",
       "age     277.834251 -0.019454   -74.432198 -2.693028\n",
       "items    -0.019454  4.239598    -0.486499 -0.014314\n",
       "amount  -74.432198 -0.486499  5774.506051  5.980051\n",
       "region   -2.693028 -0.014314     5.980051  0.724336"
      ]
     },
     "execution_count": 56,
     "metadata": {},
     "output_type": "execute_result"
    }
   ],
   "source": [
    "# covariance graph associated with the Upper Quartile Dataframe (UQD)\n",
    "\n",
    "data_lower.cov()"
   ]
  },
  {
   "cell_type": "code",
   "execution_count": 57,
   "id": "bad775f7",
   "metadata": {
    "scrolled": true
   },
   "outputs": [],
   "source": [
    "# kept for note-taking purposes, but not necessary for EDA purposes\n",
    "\n",
    "# i just want to remember how to carry out this kind of function \n",
    "\n",
    "# data_lower.corrwith(data[\"amount\"])"
   ]
  },
  {
   "cell_type": "code",
   "execution_count": 58,
   "id": "7fe47775",
   "metadata": {
    "scrolled": true
   },
   "outputs": [],
   "source": [
    "# kept for note-taking purposes, but not necessary for EDA purposes\n",
    "# i just want to remember how to carry out this kind of function\n",
    "\n",
    "# data_lower[\"region\"].cov(data_lower[\"amount\"])"
   ]
  },
  {
   "cell_type": "code",
   "execution_count": null,
   "id": "bb167585",
   "metadata": {},
   "outputs": [],
   "source": []
  },
  {
   "cell_type": "markdown",
   "id": "ed8a6e89",
   "metadata": {},
   "source": [
    "## EDA on the (UQD) Upper Quartile Dataframe (sub-selection of the Modified Dataframe)"
   ]
  },
  {
   "cell_type": "code",
   "execution_count": 59,
   "id": "f41bef46",
   "metadata": {},
   "outputs": [
    {
     "data": {
      "text/html": [
       "<div>\n",
       "<style scoped>\n",
       "    .dataframe tbody tr th:only-of-type {\n",
       "        vertical-align: middle;\n",
       "    }\n",
       "\n",
       "    .dataframe tbody tr th {\n",
       "        vertical-align: top;\n",
       "    }\n",
       "\n",
       "    .dataframe thead th {\n",
       "        text-align: right;\n",
       "    }\n",
       "</style>\n",
       "<table border=\"1\" class=\"dataframe\">\n",
       "  <thead>\n",
       "    <tr style=\"text-align: right;\">\n",
       "      <th></th>\n",
       "      <th>age</th>\n",
       "      <th>items</th>\n",
       "      <th>amount</th>\n",
       "      <th>region</th>\n",
       "    </tr>\n",
       "  </thead>\n",
       "  <tbody>\n",
       "    <tr>\n",
       "      <th>count</th>\n",
       "      <td>20174.000000</td>\n",
       "      <td>20174.000000</td>\n",
       "      <td>20174.000000</td>\n",
       "      <td>20174.000000</td>\n",
       "    </tr>\n",
       "    <tr>\n",
       "      <th>mean</th>\n",
       "      <td>39.013731</td>\n",
       "      <td>4.508575</td>\n",
       "      <td>1909.125637</td>\n",
       "      <td>3.367453</td>\n",
       "    </tr>\n",
       "    <tr>\n",
       "      <th>std</th>\n",
       "      <td>12.135116</td>\n",
       "      <td>2.066605</td>\n",
       "      <td>487.264537</td>\n",
       "      <td>1.036274</td>\n",
       "    </tr>\n",
       "    <tr>\n",
       "      <th>min</th>\n",
       "      <td>18.000000</td>\n",
       "      <td>1.000000</td>\n",
       "      <td>1223.400000</td>\n",
       "      <td>1.000000</td>\n",
       "    </tr>\n",
       "    <tr>\n",
       "      <th>25%</th>\n",
       "      <td>29.000000</td>\n",
       "      <td>3.000000</td>\n",
       "      <td>1517.000000</td>\n",
       "      <td>3.000000</td>\n",
       "    </tr>\n",
       "    <tr>\n",
       "      <th>50%</th>\n",
       "      <td>39.000000</td>\n",
       "      <td>4.000000</td>\n",
       "      <td>1808.800000</td>\n",
       "      <td>4.000000</td>\n",
       "    </tr>\n",
       "    <tr>\n",
       "      <th>75%</th>\n",
       "      <td>49.000000</td>\n",
       "      <td>6.000000</td>\n",
       "      <td>2250.075000</td>\n",
       "      <td>4.000000</td>\n",
       "    </tr>\n",
       "    <tr>\n",
       "      <th>max</th>\n",
       "      <td>63.000000</td>\n",
       "      <td>8.000000</td>\n",
       "      <td>3000.000000</td>\n",
       "      <td>4.000000</td>\n",
       "    </tr>\n",
       "  </tbody>\n",
       "</table>\n",
       "</div>"
      ],
      "text/plain": [
       "                age         items        amount        region\n",
       "count  20174.000000  20174.000000  20174.000000  20174.000000\n",
       "mean      39.013731      4.508575   1909.125637      3.367453\n",
       "std       12.135116      2.066605    487.264537      1.036274\n",
       "min       18.000000      1.000000   1223.400000      1.000000\n",
       "25%       29.000000      3.000000   1517.000000      3.000000\n",
       "50%       39.000000      4.000000   1808.800000      4.000000\n",
       "75%       49.000000      6.000000   2250.075000      4.000000\n",
       "max       63.000000      8.000000   3000.000000      4.000000"
      ]
     },
     "execution_count": 59,
     "metadata": {},
     "output_type": "execute_result"
    }
   ],
   "source": [
    "# this dataframe is generated by making a sub-selection from the Modified Dataframe\n",
    "# based on a conditional statement, which seeks to find data elements where\n",
    "# the amount values are greater than or equal to the upper quartile (>= 75%)\n",
    "\n",
    "# this is done so that I can analyze data points that correspond to the uppwer-bound values asssociated with the\n",
    "# \"items\" and amount\" columns based on the \"region\" column \n",
    "\n",
    "upper_quartile = 1223.40\n",
    "\n",
    "data_upper = data[[\"age\", \"items\", \"amount\", \"region\"]][data[\"amount\"] >= upper_quartile]\n",
    "data_upper.describe()\n"
   ]
  },
  {
   "cell_type": "code",
   "execution_count": 60,
   "id": "cdd3cb73",
   "metadata": {},
   "outputs": [
    {
     "data": {
      "image/png": "[encoded data removed]",
      "text/plain": [
       "<Figure size 432x288 with 1 Axes>"
      ]
     },
     "metadata": {
      "needs_background": "light"
     },
     "output_type": "display_data"
    }
   ],
   "source": [
    "plt.hist(data_upper[\"age\"], bins=7)\n",
    "plt.title(\"Histogram by Age (Upper Quartile Dataframe)\")\n",
    "plt.xlabel(\"Age\")\n",
    "plt.ylabel(\"Count\")\n",
    "plt.show()"
   ]
  },
  {
   "cell_type": "code",
   "execution_count": 61,
   "id": "a3cfa054",
   "metadata": {},
   "outputs": [
    {
     "data": {
      "image/png": "[encoded data removed]",
      "text/plain": [
       "<Figure size 432x288 with 1 Axes>"
      ]
     },
     "metadata": {
      "needs_background": "light"
     },
     "output_type": "display_data"
    }
   ],
   "source": [
    "plt.hist(data_upper[\"amount\"], bins=7)\n",
    "plt.title(\"Histogram by Amount (Upper Quartile Dataframe)\")\n",
    "plt.xlabel(\"Amount\")\n",
    "plt.ylabel(\"Count\")\n",
    "plt.show()"
   ]
  },
  {
   "cell_type": "code",
   "execution_count": 62,
   "id": "9681d4b8",
   "metadata": {},
   "outputs": [
    {
     "data": {
      "image/png": "[encoded data removed]",
      "text/plain": [
       "<Figure size 432x288 with 1 Axes>"
      ]
     },
     "metadata": {
      "needs_background": "light"
     },
     "output_type": "display_data"
    }
   ],
   "source": [
    "plt.hist(data_upper[\"items\"], bins=7)\n",
    "plt.title(\"Histogram by Items (Upper Quartile Dataframe)\")\n",
    "plt.xlabel(\"Items\")\n",
    "plt.ylabel(\"Count\")\n",
    "plt.show()"
   ]
  },
  {
   "cell_type": "code",
   "execution_count": 63,
   "id": "59b0272d",
   "metadata": {},
   "outputs": [
    {
     "data": {
      "image/png": "[encoded data removed]",
      "text/plain": [
       "<Figure size 432x288 with 1 Axes>"
      ]
     },
     "metadata": {
      "needs_background": "light"
     },
     "output_type": "display_data"
    }
   ],
   "source": [
    "# clearly shows that purchase amounts greater to or equal to the Upper Quartile are coming mostly from the West region\n",
    "\n",
    "plt.hist(data_upper[\"region\"], bins=7)\n",
    "plt.title(\"Histogram by Region (Upper Quartile Dataframe)\")\n",
    "plt.xlabel(\"1 = North  2 = South  3 = East  4 = West\")\n",
    "plt.ylabel(\"Count\")\n",
    "plt.show()"
   ]
  },
  {
   "cell_type": "code",
   "execution_count": 64,
   "id": "85e368bf",
   "metadata": {},
   "outputs": [],
   "source": [
    "# note based on Group Meeting - scatter plots *should not* include categorical data, such as what \"region\" represents \n",
    "\n",
    "# # kept for note-taking purposes, but not necessary for EDA purposes\n",
    "\n",
    "# data_upper_sample = data_upper.sample(100)\n",
    "\n",
    "# x_upper = data_upper_sample[\"region\"]\n",
    "# y_upper = data_upper_sample[\"amount\"]\n",
    "\n",
    "\n",
    "# plt.scatter(x_upper, y_upper, marker=\"o\")\n",
    "# plt.title(\"Scatterplot of Region and Amount based on Randomized Sample of Data (Upper Quartile Dataframe)\")\n",
    "# plt.xlabel(\"1 = North  2 = South  3 = East  4 = West\")\n",
    "# plt.ylabel(\"Amount\")\n",
    "# plt.show()"
   ]
  },
  {
   "cell_type": "code",
   "execution_count": 65,
   "id": "e8b3a62e",
   "metadata": {},
   "outputs": [],
   "source": [
    "# kept for note-taking purposes, but not necessary for EDA purposes\n",
    "\n",
    "# data_upper_sample = data_upper.sample(100)\n",
    "\n",
    "# x_upper = data_upper_sample[\"items\"]\n",
    "# y_upper = data_upper_sample[\"amount\"]\n",
    "\n",
    "\n",
    "# plt.scatter(x_upper, y_upper, marker=\"o\")\n",
    "# plt.title(\"Scatterplot of Items and Amount based on Randomized Sample of Data (Upper Quartile Dataframe)\")\n",
    "# plt.xlabel(\"Items\")\n",
    "# plt.ylabel(\"Amount\")\n",
    "# plt.show()"
   ]
  },
  {
   "cell_type": "code",
   "execution_count": 66,
   "id": "5a166e0c",
   "metadata": {},
   "outputs": [
    {
     "data": {
      "image/png": "[encoded data removed]",
      "text/plain": [
       "<Figure size 432x288 with 1 Axes>"
      ]
     },
     "metadata": {
      "needs_background": "light"
     },
     "output_type": "display_data"
    }
   ],
   "source": [
    "A_upper = data_upper[\"amount\"]\n",
    "\n",
    "plt.boxplot(A_upper, 0, \"gD\")\n",
    "plt.title(\"Boxplot by Amount (Upper Quartile Dataframe)\")\n",
    "plt.xlabel(\"Figure\")\n",
    "plt.ylabel(\"Amount\")\n",
    "plt.show()"
   ]
  },
  {
   "cell_type": "code",
   "execution_count": 67,
   "id": "535312b7",
   "metadata": {},
   "outputs": [
    {
     "data": {
      "image/png": "[encoded data removed]",
      "text/plain": [
       "<Figure size 432x288 with 1 Axes>"
      ]
     },
     "metadata": {
      "needs_background": "light"
     },
     "output_type": "display_data"
    }
   ],
   "source": [
    "B_upper = data_upper[\"age\"]\n",
    "\n",
    "plt.boxplot(B_upper, 0, \"gD\")\n",
    "plt.title(\"Boxplot by Age (Upper Quartile Dataframe)\")\n",
    "plt.xlabel(\"Figure\")\n",
    "plt.ylabel(\"Age\")\n",
    "plt.show()"
   ]
  },
  {
   "cell_type": "code",
   "execution_count": 68,
   "id": "f619ab97",
   "metadata": {},
   "outputs": [
    {
     "data": {
      "image/png": "[encoded data removed]",
      "text/plain": [
       "<Figure size 432x288 with 1 Axes>"
      ]
     },
     "metadata": {
      "needs_background": "light"
     },
     "output_type": "display_data"
    }
   ],
   "source": [
    "C_upper = data_upper[\"items\"]\n",
    "\n",
    "plt.boxplot(C_upper, 0, \"gD\")\n",
    "plt.title(\"Boxplot by Items (Upper Quartile Dataframe)\")\n",
    "plt.xlabel(\"Figure\")\n",
    "plt.ylabel(\"Items\")\n",
    "plt.show()"
   ]
  },
  {
   "cell_type": "code",
   "execution_count": 69,
   "id": "7e7c6c88",
   "metadata": {
    "scrolled": false
   },
   "outputs": [
    {
     "data": {
      "text/html": [
       "<div>\n",
       "<style scoped>\n",
       "    .dataframe tbody tr th:only-of-type {\n",
       "        vertical-align: middle;\n",
       "    }\n",
       "\n",
       "    .dataframe tbody tr th {\n",
       "        vertical-align: top;\n",
       "    }\n",
       "\n",
       "    .dataframe thead th {\n",
       "        text-align: right;\n",
       "    }\n",
       "</style>\n",
       "<table border=\"1\" class=\"dataframe\">\n",
       "  <thead>\n",
       "    <tr style=\"text-align: right;\">\n",
       "      <th></th>\n",
       "      <th>age</th>\n",
       "      <th>items</th>\n",
       "      <th>amount</th>\n",
       "      <th>region</th>\n",
       "    </tr>\n",
       "  </thead>\n",
       "  <tbody>\n",
       "    <tr>\n",
       "      <th>age</th>\n",
       "      <td>1.000000</td>\n",
       "      <td>-0.004145</td>\n",
       "      <td>0.083009</td>\n",
       "      <td>0.050785</td>\n",
       "    </tr>\n",
       "    <tr>\n",
       "      <th>items</th>\n",
       "      <td>-0.004145</td>\n",
       "      <td>1.000000</td>\n",
       "      <td>-0.000883</td>\n",
       "      <td>0.008378</td>\n",
       "    </tr>\n",
       "    <tr>\n",
       "      <th>amount</th>\n",
       "      <td>0.083009</td>\n",
       "      <td>-0.000883</td>\n",
       "      <td>1.000000</td>\n",
       "      <td>0.170863</td>\n",
       "    </tr>\n",
       "    <tr>\n",
       "      <th>region</th>\n",
       "      <td>0.050785</td>\n",
       "      <td>0.008378</td>\n",
       "      <td>0.170863</td>\n",
       "      <td>1.000000</td>\n",
       "    </tr>\n",
       "  </tbody>\n",
       "</table>\n",
       "</div>"
      ],
      "text/plain": [
       "             age     items    amount    region\n",
       "age     1.000000 -0.004145  0.083009  0.050785\n",
       "items  -0.004145  1.000000 -0.000883  0.008378\n",
       "amount  0.083009 -0.000883  1.000000  0.170863\n",
       "region  0.050785  0.008378  0.170863  1.000000"
      ]
     },
     "execution_count": 69,
     "metadata": {},
     "output_type": "execute_result"
    }
   ],
   "source": [
    "# correlation graph associated with the Upper Quartile Dataframe (UQD)\n",
    "\n",
    "data_upper.corr()"
   ]
  },
  {
   "cell_type": "code",
   "execution_count": 70,
   "id": "050231fd",
   "metadata": {
    "scrolled": true
   },
   "outputs": [
    {
     "data": {
      "text/html": [
       "<div>\n",
       "<style scoped>\n",
       "    .dataframe tbody tr th:only-of-type {\n",
       "        vertical-align: middle;\n",
       "    }\n",
       "\n",
       "    .dataframe tbody tr th {\n",
       "        vertical-align: top;\n",
       "    }\n",
       "\n",
       "    .dataframe thead th {\n",
       "        text-align: right;\n",
       "    }\n",
       "</style>\n",
       "<table border=\"1\" class=\"dataframe\">\n",
       "  <thead>\n",
       "    <tr style=\"text-align: right;\">\n",
       "      <th></th>\n",
       "      <th>age</th>\n",
       "      <th>items</th>\n",
       "      <th>amount</th>\n",
       "      <th>region</th>\n",
       "    </tr>\n",
       "  </thead>\n",
       "  <tbody>\n",
       "    <tr>\n",
       "      <th>age</th>\n",
       "      <td>147.261052</td>\n",
       "      <td>-0.103945</td>\n",
       "      <td>490.833555</td>\n",
       "      <td>0.638637</td>\n",
       "    </tr>\n",
       "    <tr>\n",
       "      <th>items</th>\n",
       "      <td>-0.103945</td>\n",
       "      <td>4.270858</td>\n",
       "      <td>-0.888913</td>\n",
       "      <td>0.017941</td>\n",
       "    </tr>\n",
       "    <tr>\n",
       "      <th>amount</th>\n",
       "      <td>490.833555</td>\n",
       "      <td>-0.888913</td>\n",
       "      <td>237426.729194</td>\n",
       "      <td>86.275272</td>\n",
       "    </tr>\n",
       "    <tr>\n",
       "      <th>region</th>\n",
       "      <td>0.638637</td>\n",
       "      <td>0.017941</td>\n",
       "      <td>86.275272</td>\n",
       "      <td>1.073865</td>\n",
       "    </tr>\n",
       "  </tbody>\n",
       "</table>\n",
       "</div>"
      ],
      "text/plain": [
       "               age     items         amount     region\n",
       "age     147.261052 -0.103945     490.833555   0.638637\n",
       "items    -0.103945  4.270858      -0.888913   0.017941\n",
       "amount  490.833555 -0.888913  237426.729194  86.275272\n",
       "region    0.638637  0.017941      86.275272   1.073865"
      ]
     },
     "execution_count": 70,
     "metadata": {},
     "output_type": "execute_result"
    }
   ],
   "source": [
    "# covariance graph associated with the Upper Quartile Dataframe (UQD)\n",
    "\n",
    "data_upper.cov()"
   ]
  },
  {
   "cell_type": "code",
   "execution_count": null,
   "id": "bf067a3b",
   "metadata": {},
   "outputs": [],
   "source": []
  },
  {
   "cell_type": "markdown",
   "id": "2ffbb172",
   "metadata": {},
   "source": [
    "# Preliminary observations about the data \n"
   ]
  },
  {
   "cell_type": "markdown",
   "id": "80a270e2",
   "metadata": {},
   "source": [
    "## About the Modified Dataframe"
   ]
  },
  {
   "cell_type": "markdown",
   "id": "2f24738d",
   "metadata": {},
   "source": [
    "##### A handful of insights can be drawn just from looking at the dataset when the describe() function is applied to it.\n",
    "\n",
    "##### That being said, some interesting observations I noticed were:\n",
    "\n",
    "##### 1. A majority (~85%) of purchases involved between 2 to 7 items.\n",
    "\n",
    "##### 2. A majority (~80%) of purchases occured within the West, South and East regions. The West region being the most as having ~32% of the share.\n",
    "\n",
    "##### 3. There's practically an even split between purchase type (in-store versus online), overall. NOTE: It's possible that there are particular age and amount tresholds which may be more associated with one purchase type over the other.\n",
    "\n",
    "##### 4. It appears that people who are of working age (between 32 and 53) are more featured as having purchases than those who are younger or are elderly (18 and over 75) who are less featured as having purchases. "
   ]
  },
  {
   "cell_type": "markdown",
   "id": "81d10e7b",
   "metadata": {},
   "source": [
    "## About the Lower Quartile Dataframe (similarities and differences with the Modified Dataframe)"
   ]
  },
  {
   "cell_type": "markdown",
   "id": "4da14cc9",
   "metadata": {},
   "source": [
    "##### 1. People between the ages of 30 to about 55 are highly represented\n",
    "\n",
    "##### 2. Most purchases are on the middle and upper ends of the LQD value. Relatively few instances of purchases below $50.\n",
    "\n",
    "##### 3. Almost equal amount of purchases are associated with between 2-item to 7-item purchases. However, 8-item purchases are occur most frequently.\n",
    "\n",
    "##### 4. The South region appears to be most represented for LQD purchases. \n",
    "\n",
    "##### 5.  The \"region\" data and the \"amount\" data for the LQD have a covariance of 5.98 and a correlation of 0.09\n"
   ]
  },
  {
   "cell_type": "markdown",
   "id": "47e6fa81",
   "metadata": {},
   "source": [
    "## About the Upper Quartile Dataframe (similarities and differences with the Modified Dataframe)"
   ]
  },
  {
   "cell_type": "markdown",
   "id": "70403ffd",
   "metadata": {},
   "source": [
    "##### 1. People between the ages of 30 to about 50 are highly represented, however those in the 20s and 40s brackets are effectively equal. Those in the age 60 bracket are represented much less.\n",
    "\n",
    "##### 2. Most purchases occur within the lower bounds of the UQD value. Afterwards, the upper and highest bounds of the UQ are represented about equally.\n",
    "\n",
    "##### 3. 1-item purchases are represented least. 2-item to 7-item purchases make up the most of total purchases and are represented about equally. 8-item purchases are most represented.\n",
    "\n",
    "##### 4. The West region appears to be most represented for UQD purchases. The East region slightly exceeds the North region. Apparently there is no representation in the UQD from the South region.\n",
    "\n",
    "##### 5. The \"region\" data and the \"amount\" data for the UQD have a covariance of 86.27 and a correlation of 0.17"
   ]
  },
  {
   "cell_type": "code",
   "execution_count": null,
   "id": "9cde6416",
   "metadata": {},
   "outputs": [],
   "source": []
  }
 ],
 "metadata": {
  "kernelspec": {
   "display_name": "Python 3",
   "language": "python",
   "name": "python3"
  },
  "language_info": {
   "codemirror_mode": {
    "name": "ipython",
    "version": 3
   },
   "file_extension": ".py",
   "mimetype": "text/x-python",
   "name": "python",
   "nbconvert_exporter": "python",
   "pygments_lexer": "ipython3",
   "version": "3.9.7"
  }
 },
 "nbformat": 4,
 "nbformat_minor": 5
}
